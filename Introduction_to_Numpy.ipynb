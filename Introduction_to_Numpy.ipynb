{
  "nbformat": 4,
  "nbformat_minor": 0,
  "metadata": {
    "colab": {
      "private_outputs": true,
      "provenance": [],
      "authorship_tag": "ABX9TyOra8phUJYdwEW3aeHw5uas",
      "include_colab_link": true
    },
    "kernelspec": {
      "name": "python3",
      "display_name": "Python 3"
    },
    "language_info": {
      "name": "python"
    }
  },
  "cells": [
    {
      "cell_type": "markdown",
      "metadata": {
        "id": "view-in-github",
        "colab_type": "text"
      },
      "source": [
        "<a href=\"https://colab.research.google.com/github/boomboom-98/AIO-Main-course/blob/Develop/Introduction_to_Numpy.ipynb\" target=\"_parent\"><img src=\"https://colab.research.google.com/assets/colab-badge.svg\" alt=\"Open In Colab\"/></a>"
      ]
    },
    {
      "cell_type": "code",
      "execution_count": null,
      "metadata": {
        "id": "fnFOlkhYti-x"
      },
      "outputs": [],
      "source": []
    },
    {
      "cell_type": "markdown",
      "source": [
        "Example 1: Simple operations"
      ],
      "metadata": {
        "id": "InDf40v08D2S"
      }
    },
    {
      "cell_type": "code",
      "source": [
        "def f_function(number):\n",
        "  result = number**2 + 1\n",
        "  return result\n",
        "def f_function_list(numbers):\n",
        "  result = []\n",
        "  for n in numbers:\n",
        "    a = f_function(n)\n",
        "    result.append(a)\n",
        "    # result.append(f_function(n))\n",
        "    print(result)\n",
        "  return result\n",
        "#test\n",
        "list_a = [1, 2, 3, 4, 5]\n",
        "numberss = range(1, 6)\n",
        "print(f_function_list(list_a))\n",
        "print(f_function_list(numberss))"
      ],
      "metadata": {
        "id": "CoLQEVHRlNkf"
      },
      "execution_count": null,
      "outputs": []
    },
    {
      "cell_type": "code",
      "source": [
        "import numpy as np\n",
        "def f_function(number):\n",
        "  result = number**2 + 1\n",
        "  return result\n",
        "factorial_np = np.vectorize(f_function)\n",
        "# Test\n",
        "numbers = [1, 2, 3, 4, 5]\n",
        "numbers_array = np.array(numbers)\n",
        "print(factorial_np(numbers_array))"
      ],
      "metadata": {
        "id": "BipcWygboG4b"
      },
      "execution_count": null,
      "outputs": []
    },
    {
      "cell_type": "code",
      "source": [
        "numbers = range(1,5)\n",
        "numbers_np = np.array(numbers)\n",
        "result = numbers_np**2 + 1\n",
        "print(result)"
      ],
      "metadata": {
        "id": "GW1Rmog5pdAE"
      },
      "execution_count": null,
      "outputs": []
    },
    {
      "cell_type": "markdown",
      "source": [
        "Implementation view: implement for each element \\\\\n",
        "Execution view: run for all the elements."
      ],
      "metadata": {
        "id": "JRty8XiHpw1o"
      }
    },
    {
      "cell_type": "code",
      "source": [],
      "metadata": {
        "id": "YYuVvZ9_p-QN"
      },
      "execution_count": null,
      "outputs": []
    },
    {
      "cell_type": "markdown",
      "source": [
        "### Some common functions"
      ],
      "metadata": {
        "id": "vBq8JcMTqSua"
      }
    },
    {
      "cell_type": "code",
      "source": [
        "# Create numpy arrays\n",
        "# Zeros() function create an array have all elements that are equal 0\n",
        "arr = np.zeros(5)\n",
        "arr1 = np.zeros((2,3))\n",
        "print(arr)\n",
        "print(arr1)"
      ],
      "metadata": {
        "id": "1mHg78VRqVbl"
      },
      "execution_count": null,
      "outputs": []
    },
    {
      "cell_type": "code",
      "source": [
        "# ones function()\n",
        "# create an array have all elements that are equal 1\n",
        "arr = np.ones(5)\n",
        "arr1 = np.ones((2,3))\n",
        "print(f' arr = {arr}')\n",
        "print(f' arr1 = {arr1}')"
      ],
      "metadata": {
        "id": "K9Q0yaByrNxQ"
      },
      "execution_count": null,
      "outputs": []
    },
    {
      "cell_type": "code",
      "source": [
        "# full function()\n",
        "# create an array have all elements that equal fill_have we wish\n",
        "arr = np.full(5, 6)\n",
        "arr1 = np.full((2,3), 4)\n",
        "print(arr)\n",
        "print(arr1)"
      ],
      "metadata": {
        "id": "x0JtBqQ8t7--"
      },
      "execution_count": null,
      "outputs": []
    },
    {
      "cell_type": "code",
      "source": [
        "# eye function()\n",
        "# return 2D-array with all elements on diagonal that equals 1\n",
        "# other element are equal zero.\n",
        "arr = np.eye(5)\n",
        "arr1 = np.eye(5,4,1)\n",
        "print(arr)\n",
        "print(arr1)"
      ],
      "metadata": {
        "id": "XOrVNZaTuncy"
      },
      "execution_count": null,
      "outputs": []
    },
    {
      "cell_type": "code",
      "source": [
        "# random() function\n",
        "# Create a numpy array that all elenment are ramdom\n",
        "arr = np.random.random((2,3))\n",
        "print(arr)"
      ],
      "metadata": {
        "id": "iJyWDH19zEBK"
      },
      "execution_count": null,
      "outputs": []
    },
    {
      "cell_type": "code",
      "source": [
        "# arange() function\n",
        "# Create a 1-D numpy array that element following\n",
        "list_a = range(1, 12, 2)\n",
        "arr = np.array(list_a)\n",
        "arr1 = np.arange(1, 12, 2)\n",
        "print(list_a)\n",
        "print(arr)\n",
        "print(arr1)"
      ],
      "metadata": {
        "id": "5f6K8mUUzl_G"
      },
      "execution_count": null,
      "outputs": []
    },
    {
      "cell_type": "code",
      "source": [
        "# reshape() function\n",
        "arr1 = np.random.random(12)\n",
        "arr1_1 = np.reshape(arr1, (2,3,2))\n",
        "print(arr1_1)"
      ],
      "metadata": {
        "id": "IZJPfGFo0las"
      },
      "execution_count": null,
      "outputs": []
    },
    {
      "cell_type": "code",
      "source": [
        "# flatten() function\n",
        "arr2 = arr1_1.flatten()\n",
        "arr3 = arr1_1.reshape(-1)\n",
        "print(arr2)"
      ],
      "metadata": {
        "id": "bnuYh4ZM3sHi"
      },
      "execution_count": null,
      "outputs": []
    },
    {
      "cell_type": "markdown",
      "source": [
        "### Array indexing"
      ],
      "metadata": {
        "id": "AkCNW2Nr59S7"
      }
    },
    {
      "cell_type": "code",
      "source": [
        "a_arr = np.array([[1,2,3],[4,5,6]])\n",
        "arr1 = a_arr[1, 2]\n",
        "print(arr1.shape)\n",
        "arr2 = a_arr[1:2,2] # Create 1-Dimention array\n",
        "print(arr2.shape)\n",
        "arr3 = a_arr[1:2, 2:]\n",
        "print(arr3.shape) # Create 2-Dimention array"
      ],
      "metadata": {
        "id": "K9sYzN335_YY"
      },
      "execution_count": null,
      "outputs": []
    },
    {
      "cell_type": "code",
      "source": [
        "# Mutable\n",
        "b_arr = a_arr[:, 1:3]\n",
        "b_arr[0,0] = 100\n",
        "print(b_arr)\n",
        "print(b_arr.shape)\n"
      ],
      "metadata": {
        "id": "dvc1nY0wMeeG"
      },
      "execution_count": null,
      "outputs": []
    },
    {
      "cell_type": "code",
      "source": [
        "# using list as indices\n",
        "arr = np.arange(1,7)\n",
        "arr = np.reshape(arr,(2,3))"
      ],
      "metadata": {
        "id": "PKk0QhOtSg_3"
      },
      "execution_count": null,
      "outputs": []
    },
    {
      "cell_type": "code",
      "source": [
        "# Boolean indices\n",
        "bool_idx = (arr > 2)\n",
        "print(bool_idx)\n",
        "print(type(arr[bool_idx]))"
      ],
      "metadata": {
        "id": "RHVeBt1PVpCb"
      },
      "execution_count": null,
      "outputs": []
    },
    {
      "cell_type": "code",
      "source": [
        "# Summation\n",
        "b = np.sum(arr) # tra ve kieu du lieu scalar\n",
        "c = np.sum(arr, axis = 0) # tra ve kieu du lieu 1-D array\n",
        "d = np.sum(arr, axis = 1) # tra ve kieu du lieu 1-D array\n",
        "print(type(b))\n",
        "print(type(c))\n",
        "print(d)"
      ],
      "metadata": {
        "id": "9qZ8mIHOXEtl"
      },
      "execution_count": null,
      "outputs": []
    },
    {
      "cell_type": "code",
      "source": [
        "arr\n",
        "b = arr % 2\n",
        "b"
      ],
      "metadata": {
        "id": "FIotkW0uYmXB"
      },
      "execution_count": null,
      "outputs": []
    },
    {
      "cell_type": "code",
      "source": [
        "#broadcasting\n",
        "#Create data\n",
        "import numpy as np\n",
        "data = np.array([1,2,3])\n",
        "factor = 2\n",
        "# Broadcasting\n",
        "result_multication = data * factor\n",
        "result_minus = data - factor\n",
        "print(result_multication)\n",
        "print(result_minus)\n",
        "#"
      ],
      "metadata": {
        "id": "046yR92oi6Kl"
      },
      "execution_count": null,
      "outputs": []
    },
    {
      "cell_type": "code",
      "source": [
        "# Example 1: Softmax function\n",
        "def stable_softmax(X):\n",
        "  # print(np.max(X))\n",
        "  exps = np.exp(X-np.max(X))\n",
        "  return exps / np.sum(exps)\n",
        "X = np.array([1, 2, 3])\n",
        "f = stable_softmax(X)\n",
        "print(f)"
      ],
      "metadata": {
        "id": "Qly89ef0n9CO"
      },
      "execution_count": null,
      "outputs": []
    }
  ]
}