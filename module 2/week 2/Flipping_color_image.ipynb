{
  "cells": [
    {
      "cell_type": "code",
      "execution_count": 1,
      "metadata": {
        "id": "4XyYsiPLEMSG",
        "outputId": "33c40ced-b1d7-4d39-f9d2-0105d784d9f6",
        "colab": {
          "base_uri": "https://localhost:8080/"
        }
      },
      "outputs": [
        {
          "output_type": "execute_result",
          "data": {
            "text/plain": [
              "True"
            ]
          },
          "metadata": {},
          "execution_count": 1
        }
      ],
      "source": [
        "import cv2\n",
        "import numpy as np\n",
        "\n",
        "img = cv2.imread('nature.png', 1)\n",
        "img = img.astype(float)\n",
        "height, width, depth = img.shape\n",
        "\n",
        "transform = np.array([[1, 0],\n",
        "                      [0, -1]])\n",
        "\n",
        "output = np.zeros((height, width, depth))\n",
        "for i in range(height):\n",
        "    for j in range(width):\n",
        "        pixel = img[i, j, :]\n",
        "\n",
        "        new_j, new_i = transform.dot(np.array([j, i])) + [0, height-1]\n",
        "        output[new_i, new_j, :] = pixel\n",
        "\n",
        "output = output.astype(np.uint8)\n",
        "cv2.imwrite('flipping_x.jpg', output)"
      ]
    },
    {
      "cell_type": "code",
      "execution_count": null,
      "metadata": {
        "id": "-FOWGhNbEMSN"
      },
      "outputs": [],
      "source": []
    },
    {
      "cell_type": "code",
      "execution_count": null,
      "metadata": {
        "id": "MOZDKfAaEMSO"
      },
      "outputs": [],
      "source": []
    },
    {
      "cell_type": "code",
      "execution_count": null,
      "metadata": {
        "id": "xvvSSYybEMSO"
      },
      "outputs": [],
      "source": [
        "import cv2\n",
        "import numpy as np\n",
        "\n",
        "img = cv2.imread('nature.png', 1)\n",
        "img = img.astype(float)\n",
        "height, width, depth = img.shape\n",
        "\n",
        "transform = np.array([[-1, 0],\n",
        "                      [0, 1]])\n",
        "\n",
        "output = np.zeros((height, width, depth))\n",
        "for i in range(height):\n",
        "    for j in range(width):\n",
        "        pixel = img[i, j, :]\n",
        "        new_j, new_i = transform.dot(np.array([j, i])) + [width-1, 0]\n",
        "        output[new_i, new_j, :] = pixel\n",
        "\n",
        "output = output.astype(np.uint8)\n",
        "cv2.imwrite('flipping_y.jpg', output)"
      ]
    },
    {
      "cell_type": "code",
      "execution_count": null,
      "metadata": {
        "id": "bKw5RURbEMSQ"
      },
      "outputs": [],
      "source": []
    }
  ],
  "metadata": {
    "kernelspec": {
      "display_name": "torchenv",
      "language": "python",
      "name": "python3"
    },
    "language_info": {
      "codemirror_mode": {
        "name": "ipython",
        "version": 3
      },
      "file_extension": ".py",
      "mimetype": "text/x-python",
      "name": "python",
      "nbconvert_exporter": "python",
      "pygments_lexer": "ipython3",
      "version": "3.12.4"
    },
    "colab": {
      "provenance": []
    }
  },
  "nbformat": 4,
  "nbformat_minor": 0
}