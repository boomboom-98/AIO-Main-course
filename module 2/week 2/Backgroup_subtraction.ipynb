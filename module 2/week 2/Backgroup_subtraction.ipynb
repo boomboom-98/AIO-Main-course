{
  "nbformat": 4,
  "nbformat_minor": 0,
  "metadata": {
    "colab": {
      "private_outputs": true,
      "provenance": []
    },
    "kernelspec": {
      "name": "python3",
      "display_name": "Python 3"
    },
    "language_info": {
      "name": "python"
    }
  },
  "cells": [
    {
      "cell_type": "code",
      "execution_count": null,
      "metadata": {
        "collapsed": true,
        "id": "tPgAqRjkAloh"
      },
      "outputs": [],
      "source": [
        "import numpy as np\n",
        "import cv2\n",
        "from google.colab.patches import cv2_imshow # Import the alternative function\n",
        "bg1_image = cv2.imread(\"GreenBackground.png\",1)\n",
        "bg1_image = cv2.resize(bg1_image,(678, 381))\n",
        "# bg1_image = cv2.cvtColor(bg1_image, cv2.COLOR_BGR2GRAY)\n",
        "\n",
        "ob_image = cv2.imread('Object.png',1)\n",
        "ob_image = cv2.resize(ob_image,(678,381))\n",
        "# ob_image = cv2.cvtColor(ob_image, cv2.COLOR_BGR2GRAY)\n",
        "bg2_image = cv2.imread('NewBackground.jpg',1)\n",
        "bg2_image = cv2.resize(bg2_image,(678, 381))\n",
        "# bg2_image = cv2.cvtColor(bg2_image, cv2.COLOR_BGR2GRAY)\n",
        "cv2_imshow(bg2_image)"
      ]
    },
    {
      "cell_type": "code",
      "source": [
        "# Xây dựng hàm compute_difference():\n",
        "\n",
        "def compute_difference(frame1, frame2):\n",
        "  difference_three_chanel = cv2.absdiff(frame1, frame2)\n",
        "  difference_single_chanel = np.sum(difference_three_chanel, axis=2) / 3.0\n",
        "  difference_single_chanel = np.uint8(difference_single_chanel)\n",
        "  return difference_single_chanel\n",
        "difference = compute_difference(ob_image, bg1_image)\n",
        "cv2_imshow(difference)\n"
      ],
      "metadata": {
        "id": "MQZa2W9mH-T3"
      },
      "execution_count": null,
      "outputs": []
    },
    {
      "cell_type": "code",
      "source": [
        "def compute_binary_image(difference):\n",
        "  difference_binary = np.where(difference > 30, 255, 0)\n",
        "  difference_binary = np.stack((difference_binary,)*3, axis=-1)\n",
        "  return difference_binary\n",
        "binary_mark = compute_binary_image(difference)\n",
        "cv2_imshow(binary_mark)"
      ],
      "metadata": {
        "id": "0aU7-5NSJ5Z5"
      },
      "execution_count": null,
      "outputs": []
    },
    {
      "cell_type": "code",
      "source": [
        "def replace_background(bg1_image, bg2_image, ob_image):\n",
        "  difference = compute_difference(ob_image, bg1_image)\n",
        "  binary_mark = compute_binary_image(difference)\n",
        "  output = np.where(binary_mark == 255, ob_image, bg2_image)\n",
        "  return output\n",
        "output = replace_background(bg1_image, bg2_image, ob_image)\n",
        "cv2_imshow(output)"
      ],
      "metadata": {
        "id": "CaPZrLEMKVO6"
      },
      "execution_count": null,
      "outputs": []
    }
  ]
}