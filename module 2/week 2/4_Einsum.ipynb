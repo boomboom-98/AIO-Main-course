{
  "cells": [
    {
      "cell_type": "code",
      "execution_count": null,
      "id": "6cd579fd",
      "metadata": {
        "id": "6cd579fd",
        "outputId": "6eb932df-0622-4335-b196-e648df0c4db9"
      },
      "outputs": [
        {
          "name": "stdout",
          "output_type": "stream",
          "text": [
            "11\n"
          ]
        }
      ],
      "source": [
        "import numpy as np\n",
        "\n",
        "u = np.array([3, 2, 4, 1])\n",
        "v = np.array([2, 1, 0, 3])\n",
        "\n",
        "r = np.einsum('i,i->', u, v)\n",
        "print(r)"
      ]
    },
    {
      "cell_type": "code",
      "execution_count": null,
      "id": "7ba3b67d",
      "metadata": {
        "id": "7ba3b67d"
      },
      "outputs": [],
      "source": []
    },
    {
      "cell_type": "code",
      "execution_count": null,
      "id": "f51b1081",
      "metadata": {
        "id": "f51b1081",
        "outputId": "5bef8dd9-0878-4269-bca3-07c8af7d3e37"
      },
      "outputs": [
        {
          "name": "stdout",
          "output_type": "stream",
          "text": [
            "[18 12 24  6]\n"
          ]
        }
      ],
      "source": [
        "import numpy as np\n",
        "\n",
        "u = np.array([3, 2, 4, 1])\n",
        "v = np.array([2, 1, 0, 3])\n",
        "\n",
        "r = np.einsum('i,j->i', u, v)\n",
        "print(r)"
      ]
    },
    {
      "cell_type": "code",
      "execution_count": null,
      "id": "d7792f39",
      "metadata": {
        "id": "d7792f39"
      },
      "outputs": [],
      "source": []
    },
    {
      "cell_type": "code",
      "execution_count": null,
      "id": "58cf3f3d",
      "metadata": {
        "id": "58cf3f3d",
        "outputId": "ef275ca7-2dfe-4c0a-9193-8ba5a35143cd"
      },
      "outputs": [
        {
          "name": "stdout",
          "output_type": "stream",
          "text": [
            "[20 10  0 30]\n"
          ]
        }
      ],
      "source": [
        "import numpy as np\n",
        "\n",
        "u = np.array([3, 2, 4, 1])\n",
        "v = np.array([2, 1, 0, 3])\n",
        "\n",
        "r = np.einsum('i,j->j', u, v)\n",
        "print(r)"
      ]
    },
    {
      "cell_type": "code",
      "execution_count": null,
      "id": "3338c884",
      "metadata": {
        "id": "3338c884"
      },
      "outputs": [],
      "source": []
    },
    {
      "cell_type": "code",
      "execution_count": null,
      "id": "3792e4aa",
      "metadata": {
        "id": "3792e4aa",
        "outputId": "05cd78d2-d727-4c1d-f07a-5b81edcc9456"
      },
      "outputs": [
        {
          "name": "stdout",
          "output_type": "stream",
          "text": [
            "[[ 6  3  0  9]\n",
            " [ 4  2  0  6]\n",
            " [ 8  4  0 12]\n",
            " [ 2  1  0  3]]\n"
          ]
        }
      ],
      "source": [
        "import numpy as np\n",
        "\n",
        "u = np.array([3, 2, 4, 1])\n",
        "v = np.array([2, 1, 0, 3])\n",
        "\n",
        "r = np.einsum('i,j->ij', u, v)\n",
        "print(r)"
      ]
    },
    {
      "cell_type": "code",
      "execution_count": null,
      "id": "f3d94a7c",
      "metadata": {
        "id": "f3d94a7c"
      },
      "outputs": [],
      "source": []
    },
    {
      "cell_type": "code",
      "execution_count": null,
      "id": "e9849389",
      "metadata": {
        "id": "e9849389",
        "outputId": "47b87477-6f99-49bb-e6af-1fafc858104b"
      },
      "outputs": [
        {
          "name": "stdout",
          "output_type": "stream",
          "text": [
            "[[0 3]\n",
            " [2 1]\n",
            " [1 4]]\n"
          ]
        }
      ],
      "source": [
        "import numpy as np\n",
        "\n",
        "A = np.array([[0, 2, 1],\n",
        "              [3, 1, 4]])\n",
        "T = np.einsum('ij->ji', A)\n",
        "print(T)"
      ]
    },
    {
      "cell_type": "code",
      "execution_count": null,
      "id": "af19b755",
      "metadata": {
        "id": "af19b755"
      },
      "outputs": [],
      "source": []
    },
    {
      "cell_type": "code",
      "execution_count": null,
      "id": "23415cc4",
      "metadata": {
        "id": "23415cc4",
        "outputId": "675356e9-12b0-4638-98cc-a9b1942d2779"
      },
      "outputs": [
        {
          "name": "stdout",
          "output_type": "stream",
          "text": [
            "[5 1 3]\n"
          ]
        }
      ],
      "source": [
        "import numpy as np\n",
        "\n",
        "A = np.array([[5, 2, 1],\n",
        "                  [3, 1, 6],\n",
        "                  [2, 4, 3]])\n",
        "r = np.einsum('ii->i', A)\n",
        "print(r)"
      ]
    },
    {
      "cell_type": "code",
      "execution_count": null,
      "id": "ca54c7fd",
      "metadata": {
        "id": "ca54c7fd"
      },
      "outputs": [],
      "source": []
    },
    {
      "cell_type": "code",
      "execution_count": null,
      "id": "86ee1a9b",
      "metadata": {
        "id": "86ee1a9b",
        "outputId": "2e1a7d6b-17af-4b7f-c8d1-ee6afd30fded"
      },
      "outputs": [
        {
          "name": "stdout",
          "output_type": "stream",
          "text": [
            "9\n"
          ]
        }
      ],
      "source": [
        "import numpy as np\n",
        "\n",
        "A = np.array([[5, 2, 1],\n",
        "              [3, 1, 6],\n",
        "              [2, 4, 3]])\n",
        "r = np.einsum('ii->', A)\n",
        "print(r)"
      ]
    },
    {
      "cell_type": "code",
      "execution_count": null,
      "id": "e829357e",
      "metadata": {
        "id": "e829357e"
      },
      "outputs": [],
      "source": []
    },
    {
      "cell_type": "code",
      "execution_count": null,
      "id": "105d937d",
      "metadata": {
        "id": "105d937d",
        "outputId": "b9ade5da-994e-416c-a0e5-be04a844f267"
      },
      "outputs": [
        {
          "name": "stdout",
          "output_type": "stream",
          "text": [
            "[[3 0 2]\n",
            " [6 4 3]]\n"
          ]
        }
      ],
      "source": [
        "import numpy as np\n",
        "\n",
        "A = np.array([[3, 0, 1],\n",
        "              [2, 2, 3]])\n",
        "B = np.array([[1, 0, 2],\n",
        "              [3, 2, 1]])\n",
        "r = np.einsum('ij,ij->ij', A, B)\n",
        "print(r)"
      ]
    },
    {
      "cell_type": "code",
      "execution_count": null,
      "id": "34e39001-d3f9-476f-90e8-afce32fd236c",
      "metadata": {
        "id": "34e39001-d3f9-476f-90e8-afce32fd236c"
      },
      "outputs": [],
      "source": []
    },
    {
      "cell_type": "code",
      "execution_count": null,
      "id": "f76d8abc-16bc-4a8d-b049-8eb9241d7a92",
      "metadata": {
        "id": "f76d8abc-16bc-4a8d-b049-8eb9241d7a92",
        "outputId": "ae097bd1-59a3-40ef-fe0f-14846e7bfd7a"
      },
      "outputs": [
        {
          "name": "stdout",
          "output_type": "stream",
          "text": [
            "[[ 3  6]\n",
            " [18 32]]\n"
          ]
        }
      ],
      "source": [
        "import numpy as np\n",
        "\n",
        "A = np.array([[0, 2, 1],\n",
        "              [3, 1, 4]])\n",
        "B = np.array([[2, 5],\n",
        "              [0, 1],\n",
        "              [3, 4]])\n",
        "C = np.einsum('ij,jk->ik', A, B)\n",
        "print(C)"
      ]
    },
    {
      "cell_type": "code",
      "execution_count": null,
      "id": "dbde35f9-271f-464d-90c9-6064449a65b5",
      "metadata": {
        "id": "dbde35f9-271f-464d-90c9-6064449a65b5"
      },
      "outputs": [],
      "source": []
    }
  ],
  "metadata": {
    "kernelspec": {
      "display_name": "Python 3 (ipykernel)",
      "language": "python",
      "name": "python3"
    },
    "language_info": {
      "codemirror_mode": {
        "name": "ipython",
        "version": 3
      },
      "file_extension": ".py",
      "mimetype": "text/x-python",
      "name": "python",
      "nbconvert_exporter": "python",
      "pygments_lexer": "ipython3",
      "version": "3.12.4"
    },
    "colab": {
      "provenance": []
    }
  },
  "nbformat": 4,
  "nbformat_minor": 5
}