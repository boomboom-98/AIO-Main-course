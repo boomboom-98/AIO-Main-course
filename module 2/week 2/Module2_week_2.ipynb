{
  "nbformat": 4,
  "nbformat_minor": 0,
  "metadata": {
    "colab": {
      "provenance": [],
      "cell_execution_strategy": "setup"
    },
    "kernelspec": {
      "name": "python3",
      "display_name": "Python 3"
    },
    "language_info": {
      "name": "python"
    }
  },
  "cells": [
    {
      "cell_type": "code",
      "source": [],
      "metadata": {
        "id": "SIvJFpm222RK"
      },
      "execution_count": 16,
      "outputs": []
    },
    {
      "cell_type": "markdown",
      "source": [],
      "metadata": {
        "id": "KDblDxNb22wM"
      }
    },
    {
      "cell_type": "code",
      "source": [
        "# Exercise 1\n",
        "# the length of vector\n",
        "import numpy as np\n",
        "def comute_vector_length(vector):\n",
        "  length_of_vector = np.linalg.norm(vector)\n",
        "  return length_of_vector\n",
        "vector = np.array([-2,4,9,21])\n",
        "comute_vector_length(vector)"
      ],
      "metadata": {
        "colab": {
          "base_uri": "https://localhost:8080/"
        },
        "id": "RuKX1gg56dMx",
        "outputId": "f52bf427-3064-4ca7-8eb0-a80ea577372d"
      },
      "execution_count": 17,
      "outputs": [
        {
          "output_type": "execute_result",
          "data": {
            "text/plain": [
              "23.280893453645632"
            ]
          },
          "metadata": {},
          "execution_count": 17
        }
      ]
    },
    {
      "cell_type": "code",
      "source": [
        "# Dot product\n",
        "def compute_dot_product(vector_1, vector_2):\n",
        "   result = np.dot(vector_1, vector_2)\n",
        "   return result\n",
        "vector_1 = np.array([0,1,-1,2])\n",
        "vector_2 = np.array([2,5,1,0])\n",
        "compute_dot_product(vector_1, vector_2)"
      ],
      "metadata": {
        "colab": {
          "base_uri": "https://localhost:8080/"
        },
        "id": "nFwUBx-s7dsf",
        "outputId": "b9244df9-3769-4b8b-d651-181ded83461a"
      },
      "execution_count": 18,
      "outputs": [
        {
          "output_type": "execute_result",
          "data": {
            "text/plain": [
              "4"
            ]
          },
          "metadata": {},
          "execution_count": 18
        }
      ]
    },
    {
      "cell_type": "code",
      "source": [
        "# Multiplying a vector by a matrix\n",
        "def matrix_multi_vector(matrix, vector):\n",
        "  result = np.dot(matrix, vector) # Sử dụng hàm np.dot để tính dot product giữa matrix và vector. Lưu ý vị trí của đối số. Vì A*B khác B*A\n",
        "  return result\n",
        "matrix = np.array([[-1, 1,1],\n",
        "                   [0, -4,9]])\n",
        "vector = np.array([0,2,1])\n",
        "matrix_multi_vector(matrix, vector)"
      ],
      "metadata": {
        "colab": {
          "base_uri": "https://localhost:8080/"
        },
        "id": "O0CcbnnP7-O6",
        "outputId": "4f301ba0-cd6d-47bb-a267-05052c404722"
      },
      "execution_count": 25,
      "outputs": [
        {
          "output_type": "execute_result",
          "data": {
            "text/plain": [
              "array([3, 1])"
            ]
          },
          "metadata": {},
          "execution_count": 25
        }
      ]
    },
    {
      "cell_type": "code",
      "source": [
        "matrix@vector"
      ],
      "metadata": {
        "colab": {
          "base_uri": "https://localhost:8080/"
        },
        "id": "KYJ9gXtZOOPJ",
        "outputId": "56adbaa5-9eee-4b59-c0af-7b74926caf8a"
      },
      "execution_count": 23,
      "outputs": [
        {
          "output_type": "execute_result",
          "data": {
            "text/plain": [
              "array([ 3, -5])"
            ]
          },
          "metadata": {},
          "execution_count": 23
        }
      ]
    },
    {
      "cell_type": "code",
      "source": [
        "# multiplying matrix by a matrix\n",
        "def matrix_multi_matrix(matrix_1, matrix_2):\n",
        "  result = np.dot(matrix_1, matrix_2)\n",
        "  return result\n",
        "matrix_1 = np.array([[0,1,2], [2,-3,1]])\n",
        "matrix_2 = np.array([[1,-3], [6,1], [0,-1]])\n",
        "matrix_multi_matrix(matrix_1, matrix_2)"
      ],
      "metadata": {
        "colab": {
          "base_uri": "https://localhost:8080/"
        },
        "id": "C_AaBZfY9WNp",
        "outputId": "fd1b7a3d-a8db-4bd5-8759-59bd018cdcd0"
      },
      "execution_count": 26,
      "outputs": [
        {
          "output_type": "execute_result",
          "data": {
            "text/plain": [
              "array([[  6,  -1],\n",
              "       [-16, -10]])"
            ]
          },
          "metadata": {},
          "execution_count": 26
        }
      ]
    },
    {
      "cell_type": "code",
      "source": [
        "m1 = np.eye(3)\n",
        "m2 = np.array([[1,1,1], [2,2,2], [3,3,3]])\n",
        "m1@m2"
      ],
      "metadata": {
        "colab": {
          "base_uri": "https://localhost:8080/"
        },
        "id": "ruLdeIASPMTZ",
        "outputId": "9d44ac95-721a-404e-ca8f-dce25477e057"
      },
      "execution_count": 27,
      "outputs": [
        {
          "output_type": "execute_result",
          "data": {
            "text/plain": [
              "array([[1., 1., 1.],\n",
              "       [2., 2., 2.],\n",
              "       [3., 3., 3.]])"
            ]
          },
          "metadata": {},
          "execution_count": 27
        }
      ]
    },
    {
      "cell_type": "code",
      "source": [
        "m1 = np.eye(2)\n",
        "m1 = np.reshape(m1, (-1, 4))[0]\n",
        "m2 = np.array([[1,1,1,1], [2,2,2,2], [3,3,3,3],[4,4,4,4]])\n",
        "m1@m2"
      ],
      "metadata": {
        "colab": {
          "base_uri": "https://localhost:8080/"
        },
        "id": "gQ_G33V7PZEg",
        "outputId": "0c459bec-f00b-4430-fce0-6d03a80bbeb3"
      },
      "execution_count": 28,
      "outputs": [
        {
          "output_type": "execute_result",
          "data": {
            "text/plain": [
              "array([5., 5., 5., 5.])"
            ]
          },
          "metadata": {},
          "execution_count": 28
        }
      ]
    },
    {
      "cell_type": "code",
      "source": [
        "m1 = np.array([[1,2],[3,4]])\n",
        "m1 = np.reshape(m1, (-1, 4),\"F\")[0]\n",
        "m2 = np.array([[1,1,1,1], [2,2,2,2], [3,3,3,3],[4,4,4,4]])\n",
        "m1@m2"
      ],
      "metadata": {
        "colab": {
          "base_uri": "https://localhost:8080/"
        },
        "id": "BfF5ggRjPuEz",
        "outputId": "f11b21bb-57d5-4d33-a81c-8f608915d594"
      },
      "execution_count": 29,
      "outputs": [
        {
          "output_type": "execute_result",
          "data": {
            "text/plain": [
              "array([29, 29, 29, 29])"
            ]
          },
          "metadata": {},
          "execution_count": 29
        }
      ]
    },
    {
      "cell_type": "code",
      "source": [
        "# matrix inverse\n",
        "def inverse_matrix(matrix):\n",
        "  try:\n",
        "    result = np.linalg.inv(matrix)\n",
        "  except np.linalg.LinAlgError:\n",
        "    result = np.linalg.pinv(matrix)\n",
        "  return result\n",
        "matrix = np.array([[-2,6],[8,-4]])\n",
        "inverse_matrix(matrix)"
      ],
      "metadata": {
        "colab": {
          "base_uri": "https://localhost:8080/"
        },
        "id": "GzrT92t_9nLt",
        "outputId": "02583f14-16ed-440c-9c90-48ec93d30218"
      },
      "execution_count": 32,
      "outputs": [
        {
          "output_type": "execute_result",
          "data": {
            "text/plain": [
              "array([[0.1 , 0.15],\n",
              "       [0.2 , 0.05]])"
            ]
          },
          "metadata": {},
          "execution_count": 32
        }
      ]
    },
    {
      "cell_type": "code",
      "source": [
        "# Eigenvector and eigenvalue\n",
        "def compute_eigenvalues_eigenvector(matrix):\n"
      ],
      "metadata": {
        "id": "xwBfcx75-kcE"
      },
      "execution_count": null,
      "outputs": []
    },
    {
      "cell_type": "code",
      "source": [
        "# compute eigenvalues and eigenvector\n",
        "\n",
        "import numpy as np\n",
        "def compute_eigenvalues_eigenvector(matrix):\n",
        "  eigenvalues, eigenvectors = np.linalg.eig(matrix)\n",
        "  return eigenvalues, eigenvectors\n",
        "matrix = np.array([[0.9, 0.2],[0.1, 0.8]])\n",
        "compute_eigenvalues_eigenvector(matrix)\n"
      ],
      "metadata": {
        "colab": {
          "base_uri": "https://localhost:8080/"
        },
        "id": "vP_IHzQc_N4w",
        "outputId": "6734c101-80a8-43a2-d673-ecc341c43b74"
      },
      "execution_count": 33,
      "outputs": [
        {
          "output_type": "execute_result",
          "data": {
            "text/plain": [
              "(array([1. , 0.7]),\n",
              " array([[ 0.89442719, -0.70710678],\n",
              "        [ 0.4472136 ,  0.70710678]]))"
            ]
          },
          "metadata": {},
          "execution_count": 33
        }
      ]
    },
    {
      "cell_type": "code",
      "source": [
        "def compute_cosine(v1, v2):\n",
        "  result = (np.dot(v1,v2))/(np.linalg.norm(v1)*np.linalg.norm(v2))\n",
        "  return result\n",
        "v1 = np.array([1,2,3,4])\n",
        "v2 = np.array([1,0,3,0])\n",
        "compute_cosine(v1, v2)"
      ],
      "metadata": {
        "colab": {
          "base_uri": "https://localhost:8080/"
        },
        "id": "fkPpc_VC_7uq",
        "outputId": "08d74cd2-002c-4725-d34b-65f66f078a1e"
      },
      "execution_count": 34,
      "outputs": [
        {
          "output_type": "execute_result",
          "data": {
            "text/plain": [
              "0.5773502691896257"
            ]
          },
          "metadata": {},
          "execution_count": 34
        }
      ]
    }
  ]
}