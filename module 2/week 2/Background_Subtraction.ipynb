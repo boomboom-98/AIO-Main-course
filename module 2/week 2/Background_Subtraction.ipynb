{
  "nbformat": 4,
  "nbformat_minor": 0,
  "metadata": {
    "colab": {
      "private_outputs": true,
      "provenance": []
    },
    "kernelspec": {
      "name": "python3",
      "display_name": "Python 3"
    },
    "language_info": {
      "name": "python"
    }
  },
  "cells": [
    {
      "cell_type": "code",
      "execution_count": null,
      "metadata": {
        "id": "nzp83V5ibyk6"
      },
      "outputs": [],
      "source": [
        "import cv2\n",
        "bg = cv2.imread('background.png', 1)\n",
        "bg = cv2.cvtColor(bg, cv2.COLOR_BGR2RGB)\n",
        "bg = cv2.resize(bg, (640, 480))\n",
        "plt.imshow(bg)\n",
        "print( bg.shape)"
      ]
    },
    {
      "cell_type": "code",
      "source": [
        "img = cv2.imread('StillImage.png', 1)\n",
        "img = cv2.cvtColor(img, cv2.COLOR_BGR2RGB)\n",
        "img = cv2.resize(img, (640, 480))\n",
        "plt.imshow(img)\n",
        "print( img.shape)"
      ],
      "metadata": {
        "id": "aT3jCHOHcI-8"
      },
      "execution_count": null,
      "outputs": []
    },
    {
      "cell_type": "code",
      "source": [
        "import matplotlib.pyplot as plt"
      ],
      "metadata": {
        "id": "vgTyuumIcYRH"
      },
      "execution_count": null,
      "outputs": []
    },
    {
      "cell_type": "code",
      "source": [
        "difference = cv2.absdiff(bg, img)\n",
        "plt.imshow(difference)"
      ],
      "metadata": {
        "id": "RiL8NWaIce5I"
      },
      "execution_count": null,
      "outputs": []
    },
    {
      "cell_type": "code",
      "source": [
        "import numpy as np"
      ],
      "metadata": {
        "id": "nSNkvlSedF2E"
      },
      "execution_count": null,
      "outputs": []
    },
    {
      "cell_type": "code",
      "source": [
        "difference.shape"
      ],
      "metadata": {
        "id": "mOm1Di75c6PQ"
      },
      "execution_count": null,
      "outputs": []
    },
    {
      "cell_type": "code",
      "source": [
        "_,difference_binary = cv2.threshold(difference, 15, 255, cv2.THRESH_BINARY)\n",
        "plt.imshow(difference_binary)\n",
        "difference_binary"
      ],
      "metadata": {
        "id": "I3NVHYNNdGaK"
      },
      "execution_count": null,
      "outputs": []
    },
    {
      "cell_type": "code",
      "source": [
        "new_bg = cv2.imread('FakeBackground.png',1)\n",
        "new_bg = cv2.cvtColor(new_bg, cv2.COLOR_BGR2RGB)\n",
        "new_bg = cv2.resize(new_bg, (640, 480))\n",
        "plt.imshow(new_bg)"
      ],
      "metadata": {
        "id": "FeIgo8pTeOZW"
      },
      "execution_count": null,
      "outputs": []
    },
    {
      "cell_type": "code",
      "source": [
        "output = np.where(difference_binary == 0, new_bg, img)\n",
        "cv2.imwrite('output.png', output)"
      ],
      "metadata": {
        "id": "EqrpF3m7ecUV"
      },
      "execution_count": null,
      "outputs": []
    },
    {
      "cell_type": "code",
      "source": [
        "new_img = cv2.imread('output.png',1)\n",
        "plt.imshow(new_img)"
      ],
      "metadata": {
        "id": "Z1LA1GuGewq5"
      },
      "execution_count": null,
      "outputs": []
    }
  ]
}