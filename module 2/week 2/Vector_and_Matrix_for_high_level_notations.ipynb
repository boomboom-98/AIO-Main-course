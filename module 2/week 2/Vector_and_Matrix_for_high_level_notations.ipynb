{
  "nbformat": 4,
  "nbformat_minor": 0,
  "metadata": {
    "colab": {
      "private_outputs": true,
      "provenance": []
    },
    "kernelspec": {
      "name": "python3",
      "display_name": "Python 3"
    },
    "language_info": {
      "name": "python"
    }
  },
  "cells": [
    {
      "cell_type": "code",
      "execution_count": null,
      "metadata": {
        "id": "x1dZI0EwR9i_"
      },
      "outputs": [],
      "source": [
        "# Vector addition\n",
        "import numpy as np\n",
        "x = np.array([1, 2, 3, 4])\n",
        "y = np.array([5, 6, 7, 8])\n",
        "print(x + y)\n",
        "print( np.add(x,y) )"
      ]
    },
    {
      "cell_type": "code",
      "source": [],
      "metadata": {
        "id": "KfeD2RlaYMAO"
      },
      "execution_count": null,
      "outputs": []
    },
    {
      "cell_type": "code",
      "source": [
        "# Vector subtraction\n",
        "print(x - y)\n",
        "print(np.subtract(x,y))"
      ],
      "metadata": {
        "id": "r13ekNIgU8EB"
      },
      "execution_count": null,
      "outputs": []
    },
    {
      "cell_type": "code",
      "source": [
        "# Matrix operation\n",
        "import numpy as np\n",
        "A = np.array([[1, 2],\n",
        "              [3,4]])\n",
        "B = np.array([[5,6],\n",
        "              [7,8]])\n",
        "print(A + B)\n",
        "print( np.add(A,B))"
      ],
      "metadata": {
        "id": "yJCcUWe9VQRD"
      },
      "execution_count": null,
      "outputs": []
    },
    {
      "cell_type": "code",
      "source": [
        "# Hardamard product\n",
        "# return [v1 * v2 for v1, v2 in zip(vector1, vector2)]\n",
        "print(A * B)\n",
        "print( np.multiply(A,B))"
      ],
      "metadata": {
        "id": "eg3TOsK2VtSH"
      },
      "execution_count": null,
      "outputs": []
    },
    {
      "cell_type": "code",
      "source": [
        "# hardamard division\n",
        "# return [v1 / v2 for v1, v2 in zip(vector1,vector2)]\n",
        "# Note: v1 / v2 different from v1 // v2\n",
        "print(A / B)\n",
        "print( np.divide(A,B))"
      ],
      "metadata": {
        "id": "7PYemcMNWLJs"
      },
      "execution_count": null,
      "outputs": []
    },
    {
      "cell_type": "code",
      "source": [
        "#matrix-vector multiplication\n",
        "x = np.array([3,6])\n",
        "print(A @ x)\n",
        "print( np.dot(A,x))\n",
        "print(np.dot(x,A))"
      ],
      "metadata": {
        "id": "tXAU3mT1YflY"
      },
      "execution_count": null,
      "outputs": []
    },
    {
      "cell_type": "code",
      "source": [
        "# multiply with a number\n",
        "result_multiplication = 3 * A\n",
        "print(A * 3)\n",
        "print(3 * A)"
      ],
      "metadata": {
        "id": "_ZfMDv4OZB1B"
      },
      "execution_count": null,
      "outputs": []
    },
    {
      "cell_type": "code",
      "source": [
        "# compute a length of a vector\n",
        "data = np.array([1,2,3,4,3])\n",
        "length = np.linalg.norm(data)\n",
        "print(length)"
      ],
      "metadata": {
        "id": "x2nvgB3kZUTp"
      },
      "execution_count": null,
      "outputs": []
    },
    {
      "cell_type": "code",
      "source": [
        "import cv2\n",
        "import matplotlib.pyplot as plt\n",
        "# Load color image (channel order: BGR)\n",
        "img = cv2.imread('nature.png',1)\n",
        "img.shape\n",
        "plt.imshow(img)"
      ],
      "metadata": {
        "id": "XQzqEJ14ed4r"
      },
      "execution_count": null,
      "outputs": []
    },
    {
      "cell_type": "code",
      "source": [
        "vector = np.array([0.072, 0.715, 0.213])\n",
        "gray_image = img @ vector\n",
        "gray_image.shape\n",
        "plt.imshow(gray_image, cmap='gray')"
      ],
      "metadata": {
        "id": "4GOaQjLefLWB"
      },
      "execution_count": null,
      "outputs": []
    },
    {
      "cell_type": "code",
      "source": [
        "# matrix-matrix multiplication\n",
        "A = np.array([[1,2],\n",
        "              [3,4]])\n",
        "B = np.array([[5,6],\n",
        "              [7,8]])\n",
        "print(A @ B)\n",
        "print( np.dot(A,B))\n",
        "print(A.dot(B))"
      ],
      "metadata": {
        "id": "VP5j5yk1fLeE"
      },
      "execution_count": null,
      "outputs": []
    },
    {
      "cell_type": "code",
      "source": [
        "# transpose\n",
        "print(A.T)\n",
        "print(np.transpose(A))"
      ],
      "metadata": {
        "id": "cOerN7tjghFM"
      },
      "execution_count": null,
      "outputs": []
    },
    {
      "cell_type": "code",
      "source": [
        "# other Hadamard operations\n",
        "data = np.array([1,2,3,4])\n",
        "# Căn bậc 2 từng phần tử trong data\n",
        "sqrt = np.sqrt(data)\n",
        "print(sqrt)\n",
        "# Căn bậc 3 từng phần tử trong data\n",
        "cbrt = np.cbrt(data)\n",
        "print(cbrt)"
      ],
      "metadata": {
        "id": "Obx4jyMlg-fp"
      },
      "execution_count": null,
      "outputs": []
    },
    {
      "cell_type": "code",
      "source": [
        "import numpy as np\n",
        "import cv2\n",
        "data = np.array([[0, 63, 174],\n",
        "                [30, 205, 132],\n",
        "                [52, 178, 210]])\n",
        "data.shape"
      ],
      "metadata": {
        "id": "sLX0fD5dhdYp"
      },
      "execution_count": null,
      "outputs": []
    },
    {
      "cell_type": "code",
      "source": [],
      "metadata": {
        "id": "5CorCZembdv7"
      },
      "execution_count": null,
      "outputs": []
    },
    {
      "cell_type": "code",
      "source": [
        "data = data.astype(np.uint8)\n",
        "data"
      ],
      "metadata": {
        "id": "7SWM87zkZxEX"
      },
      "execution_count": null,
      "outputs": []
    },
    {
      "cell_type": "code",
      "source": [],
      "metadata": {
        "id": "LcEB4jfEbetL"
      },
      "execution_count": null,
      "outputs": []
    }
  ]
}