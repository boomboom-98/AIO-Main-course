{
  "nbformat": 4,
  "nbformat_minor": 0,
  "metadata": {
    "colab": {
      "private_outputs": true,
      "provenance": []
    },
    "kernelspec": {
      "name": "python3",
      "display_name": "Python 3"
    },
    "language_info": {
      "name": "python"
    }
  },
  "cells": [
    {
      "cell_type": "code",
      "execution_count": null,
      "metadata": {
        "id": "sM1oPHoG9tfa"
      },
      "outputs": [],
      "source": [
        "import numpy as np\n",
        "iris = np.genfromtxt('iris.csv', delimiter = ',', skip_header = 1)\n",
        "print(iris.shape)"
      ]
    },
    {
      "cell_type": "code",
      "source": [
        "print(iris[0:10])"
      ],
      "metadata": {
        "id": "oS0wUhb0-ISM"
      },
      "execution_count": null,
      "outputs": []
    },
    {
      "cell_type": "code",
      "source": [
        "features = np.genfromtxt('iris.csv', delimiter = ',', skip_header = 1, usecols = (0,1,2,3), dtype = 'float')\n",
        "# print(features)\n",
        "print(features.shape)"
      ],
      "metadata": {
        "collapsed": true,
        "id": "PZOSz0cp-Tfi"
      },
      "execution_count": null,
      "outputs": []
    },
    {
      "cell_type": "code",
      "source": [
        "labels = np.genfromtxt('iris.csv', delimiter = ',', skip_header = 1, usecols = (4), dtype = 'str')\n",
        "# print(labels)\n",
        "print(labels.shape)\n",
        "print(labels[0:10])"
      ],
      "metadata": {
        "id": "WyT1dyRf-jpk"
      },
      "execution_count": null,
      "outputs": []
    },
    {
      "cell_type": "code",
      "source": [
        "categories = np.unique(labels)\n",
        "print(categories.shape)\n",
        "print(categories)"
      ],
      "metadata": {
        "id": "ZIstEJmQ-50r"
      },
      "execution_count": null,
      "outputs": []
    },
    {
      "cell_type": "code",
      "source": [
        "for i in range(len(categories)):\n",
        "  labels = np.char.replace(labels, categories[i], str(i)) #For each element in data, replace pld by new. (data, old, new)\n",
        "print(labels)"
      ],
      "metadata": {
        "id": "BCpvSV0r_I03"
      },
      "execution_count": null,
      "outputs": []
    },
    {
      "cell_type": "code",
      "source": [],
      "metadata": {
        "id": "_sReQxD3_Woo"
      },
      "execution_count": null,
      "outputs": []
    }
  ]
}