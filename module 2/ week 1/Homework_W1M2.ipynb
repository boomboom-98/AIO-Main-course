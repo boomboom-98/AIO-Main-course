{
  "nbformat": 4,
  "nbformat_minor": 0,
  "metadata": {
    "colab": {
      "private_outputs": true,
      "provenance": []
    },
    "kernelspec": {
      "name": "python3",
      "display_name": "Python 3"
    },
    "language_info": {
      "name": "python"
    }
  },
  "cells": [
    {
      "cell_type": "code",
      "source": [
        "import cv2\n",
        "import numpy as np\n",
        "import matplotlib.pyplot as plt\n"
      ],
      "metadata": {
        "id": "YfEgxgTJgxAg"
      },
      "execution_count": null,
      "outputs": []
    },
    {
      "cell_type": "code",
      "source": [
        "# Read the image\n",
        "image = cv2.imread('image1.png',1)\n",
        "image.shape"
      ],
      "metadata": {
        "id": "KwXmsNDPjEWG"
      },
      "execution_count": null,
      "outputs": []
    },
    {
      "cell_type": "code",
      "source": [
        "def color2grayscale(vector):\n",
        "  result = vector.mean()\n",
        "  result = result.astype(np.uint8)\n",
        "  return result"
      ],
      "metadata": {
        "id": "tbVQvTVdxS-Q"
      },
      "execution_count": null,
      "outputs": []
    },
    {
      "cell_type": "code",
      "source": [
        "def color2grayscale2(vector):\n",
        "  result = (np.max(vector) + np.min(vector))/2\n",
        "  result = result.astype(np.uint8)\n",
        "  return result"
      ],
      "metadata": {
        "id": "E8f1LDdE17Af"
      },
      "execution_count": null,
      "outputs": []
    },
    {
      "cell_type": "code",
      "source": [
        "def color2grayscale3(vector):\n",
        "  result = 0.21*vector[0] + 0.72*vector[1] + 0.07*vector[2]\n",
        "  result = result.astype(np.uint8)\n",
        "  return result"
      ],
      "metadata": {
        "id": "mUz_p8An2L3J"
      },
      "execution_count": null,
      "outputs": []
    },
    {
      "cell_type": "code",
      "source": [
        "# Average\n",
        "grayscale_image = np.apply_along_axis(color2grayscale, axis = 2, arr = image)"
      ],
      "metadata": {
        "id": "PR0dKSYRxieY"
      },
      "execution_count": null,
      "outputs": []
    },
    {
      "cell_type": "code",
      "source": [
        "# Lightness\n",
        "grayscale_image2 = np.apply_along_axis(color2grayscale2, axis = 2, arr = image)"
      ],
      "metadata": {
        "id": "BmtVO6EU2kOl"
      },
      "execution_count": null,
      "outputs": []
    },
    {
      "cell_type": "code",
      "source": [
        "#Luminosity\n",
        "grayscale_image3 = np.apply_along_axis(color2grayscale3, axis = 2, arr= image)\n",
        "grayscale_image3.shape"
      ],
      "metadata": {
        "id": "ZSa1Tkpt23gU"
      },
      "execution_count": null,
      "outputs": []
    },
    {
      "cell_type": "code",
      "source": [
        "# Save the grayscale image by average method\n",
        "cv2.imwrite('output1.png', grayscale_image)"
      ],
      "metadata": {
        "id": "G7tUNHUuxwX3"
      },
      "execution_count": null,
      "outputs": []
    },
    {
      "cell_type": "code",
      "source": [
        "# Save the grayscale image by lightness method\n",
        "cv2.imwrite('output2.png', grayscale_image2)"
      ],
      "metadata": {
        "id": "I0anbSCw3REZ"
      },
      "execution_count": null,
      "outputs": []
    },
    {
      "cell_type": "code",
      "source": [
        "# Save the grayscale by luminosity method\n",
        "cv2.imwrite('output3.png', grayscale_image3)"
      ],
      "metadata": {
        "id": "okV4eYsO35yc"
      },
      "execution_count": null,
      "outputs": []
    },
    {
      "cell_type": "code",
      "source": [
        "# show image by average method\n",
        "image_gray = cv2.imread('output3.png',0)\n",
        "image_gray.shape\n",
        "# plt.imshow(image_gray)\n",
        "image_gray[0,0]"
      ],
      "metadata": {
        "id": "15JBTSoJx9Un"
      },
      "execution_count": null,
      "outputs": []
    },
    {
      "cell_type": "code",
      "source": [
        "#Show iamge by Lightness method\n",
        "image_gray2 = cv2.imread('output2.png',0)\n",
        "# plt.imshow(image_gray2)\n",
        "image_gray[0,0]"
      ],
      "metadata": {
        "id": "AWNU_YEv4P3n"
      },
      "execution_count": null,
      "outputs": []
    },
    {
      "cell_type": "code",
      "source": [
        "# Show image by Luminosity method\n",
        "image_gray3 = cv2.imread('output3.png', 0)\n",
        "image_gray3.shape\n",
        "plt.imshow(image_gray3)"
      ],
      "metadata": {
        "id": "ctxZE4Jv4YMW"
      },
      "execution_count": null,
      "outputs": []
    },
    {
      "cell_type": "markdown",
      "source": [],
      "metadata": {
        "id": "n3OcfWiR4o21"
      }
    }
  ]
}