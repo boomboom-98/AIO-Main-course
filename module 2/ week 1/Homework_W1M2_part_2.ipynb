{
  "nbformat": 4,
  "nbformat_minor": 0,
  "metadata": {
    "colab": {
      "private_outputs": true,
      "provenance": []
    },
    "kernelspec": {
      "name": "python3",
      "display_name": "Python 3"
    },
    "language_info": {
      "name": "python"
    }
  },
  "cells": [
    {
      "cell_type": "code",
      "source": [
        "import cv2\n",
        "import numpy as np\n",
        "import matplotlib.pyplot as plt\n"
      ],
      "metadata": {
        "id": "YfEgxgTJgxAg"
      },
      "execution_count": null,
      "outputs": []
    },
    {
      "cell_type": "code",
      "source": [],
      "metadata": {
        "id": "jwsUKD3nx6ta"
      },
      "execution_count": null,
      "outputs": []
    },
    {
      "cell_type": "code",
      "source": [
        "# Read the image\n",
        "image = cv2.imread('image1.png',1)\n",
        "image.shape"
      ],
      "metadata": {
        "id": "KwXmsNDPjEWG"
      },
      "execution_count": null,
      "outputs": []
    },
    {
      "cell_type": "code",
      "source": [
        "def color2grayscale(vector):\n",
        "  result = vector.mean()\n",
        "  result = result.astype(np.uint8)\n",
        "  return result"
      ],
      "metadata": {
        "id": "tbVQvTVdxS-Q"
      },
      "execution_count": null,
      "outputs": []
    },
    {
      "cell_type": "code",
      "source": [
        "def color2grayscale2(vector):\n",
        "  result = (np.max(vector) + np.min(vector))/2\n",
        "  result = result.astype(np.uint8)\n",
        "  return result"
      ],
      "metadata": {
        "id": "E8f1LDdE17Af"
      },
      "execution_count": null,
      "outputs": []
    },
    {
      "cell_type": "code",
      "source": [
        "def color2grayscale3(vector):\n",
        "  result = 0.21*vector[0] + 0.72*vector[1] + 0.07*vector[2]\n",
        "  result = result.astype(np.uint8)\n",
        "  return result"
      ],
      "metadata": {
        "id": "mUz_p8An2L3J"
      },
      "execution_count": null,
      "outputs": []
    },
    {
      "cell_type": "code",
      "source": [
        "# Average\n",
        "grayscale_image = np.apply_along_axis(color2grayscale, axis = 2, arr = image)"
      ],
      "metadata": {
        "id": "PR0dKSYRxieY"
      },
      "execution_count": null,
      "outputs": []
    },
    {
      "cell_type": "code",
      "source": [
        "# Lightness\n",
        "grayscale_image2 = np.apply_along_axis(color2grayscale2, axis = 2, arr = image)"
      ],
      "metadata": {
        "id": "BmtVO6EU2kOl"
      },
      "execution_count": null,
      "outputs": []
    },
    {
      "cell_type": "code",
      "source": [
        "#Luminosity\n",
        "grayscale_image3 = np.apply_along_axis(color2grayscale3, axis = 2, arr= image)\n",
        "grayscale_image3.shape"
      ],
      "metadata": {
        "id": "ZSa1Tkpt23gU"
      },
      "execution_count": null,
      "outputs": []
    },
    {
      "cell_type": "code",
      "source": [
        "# Save the grayscale image by average method\n",
        "cv2.imwrite('output1.png', grayscale_image)"
      ],
      "metadata": {
        "id": "G7tUNHUuxwX3"
      },
      "execution_count": null,
      "outputs": []
    },
    {
      "cell_type": "code",
      "source": [
        "# Save the grayscale image by lightness method\n",
        "cv2.imwrite('output2.png', grayscale_image2)"
      ],
      "metadata": {
        "id": "I0anbSCw3REZ"
      },
      "execution_count": null,
      "outputs": []
    },
    {
      "cell_type": "code",
      "source": [
        "# Save the grayscale by luminosity method\n",
        "cv2.imwrite('output3.png', grayscale_image3)"
      ],
      "metadata": {
        "id": "okV4eYsO35yc"
      },
      "execution_count": null,
      "outputs": []
    },
    {
      "cell_type": "code",
      "source": [
        "# show image by average method\n",
        "image_gray = cv2.imread('output3.png',0)\n",
        "image_gray.shape\n",
        "# plt.imshow(image_gray)\n",
        "image_gray[0,0]"
      ],
      "metadata": {
        "id": "15JBTSoJx9Un"
      },
      "execution_count": null,
      "outputs": []
    },
    {
      "cell_type": "code",
      "source": [
        "#Show iamge by Lightness method\n",
        "image_gray2 = cv2.imread('output2.png',0)\n",
        "# plt.imshow(image_gray2)\n",
        "image_gray[0,0]"
      ],
      "metadata": {
        "id": "AWNU_YEv4P3n"
      },
      "execution_count": null,
      "outputs": []
    },
    {
      "cell_type": "code",
      "source": [
        "# Show image by Luminosity method\n",
        "image_gray3 = cv2.imread('output3.png', 0)\n",
        "image_gray3.shape\n",
        "plt.imshow(image_gray3)"
      ],
      "metadata": {
        "id": "ctxZE4Jv4YMW"
      },
      "execution_count": null,
      "outputs": []
    },
    {
      "cell_type": "code",
      "source": [
        "! gdown 1 iA0WmVfW88HyJvTBSQDI5vesf-pgKabq"
      ],
      "metadata": {
        "id": "uVXeZsCSx7gA"
      },
      "execution_count": null,
      "outputs": []
    },
    {
      "cell_type": "code",
      "source": [
        "!gdown 1iA0WmVfW88HyJvTBSQDI5vesf-pgKabq\n",
        "import pandas as pd\n",
        "df = pd.read_csv('/content/advertising.csv')\n",
        "\n",
        "data = df.to_numpy()"
      ],
      "metadata": {
        "id": "UC21YOHxyDDF"
      },
      "execution_count": null,
      "outputs": []
    },
    {
      "cell_type": "code",
      "source": [
        "df.info()"
      ],
      "metadata": {
        "id": "_1eiic1qygLA"
      },
      "execution_count": null,
      "outputs": []
    },
    {
      "cell_type": "code",
      "source": [
        "data.shape"
      ],
      "metadata": {
        "id": "rMXhmKtDynLn"
      },
      "execution_count": null,
      "outputs": []
    },
    {
      "cell_type": "code",
      "source": [
        "df['Sales'].max()"
      ],
      "metadata": {
        "id": "uus3F4OKy1vl"
      },
      "execution_count": null,
      "outputs": []
    },
    {
      "cell_type": "code",
      "source": [
        "df['Sales'].idxmax()"
      ],
      "metadata": {
        "id": "va4PkVIwzcQm"
      },
      "execution_count": null,
      "outputs": []
    },
    {
      "cell_type": "code",
      "source": [
        "df['TV'].mean()"
      ],
      "metadata": {
        "id": "i55Pz1QzzuWW"
      },
      "execution_count": null,
      "outputs": []
    },
    {
      "cell_type": "code",
      "source": [
        "count = 0\n",
        "for i in df.index:\n",
        " if df.loc[i,'Sales'] >= 20:\n",
        "  count +=1\n",
        "print(count)"
      ],
      "metadata": {
        "id": "-m7bnSJEz24-"
      },
      "execution_count": null,
      "outputs": []
    },
    {
      "cell_type": "code",
      "source": [
        "index = data[:,3] >= 15\n",
        "index"
      ],
      "metadata": {
        "collapsed": true,
        "id": "Fl9sn0Rk0pxl"
      },
      "execution_count": null,
      "outputs": []
    },
    {
      "cell_type": "code",
      "source": [
        "data[index,1].mean()"
      ],
      "metadata": {
        "id": "JN4-8LEA2WuD"
      },
      "execution_count": null,
      "outputs": []
    },
    {
      "cell_type": "code",
      "source": [
        "# Question 19: Tính tổng các hàng của cột Sales với điều kiện giá trị Newspaper lớn hơn giá trị trung bình của cột Newspaper\n"
      ],
      "metadata": {
        "id": "_qBDTEu32pmN"
      },
      "execution_count": null,
      "outputs": []
    },
    {
      "cell_type": "code",
      "source": [
        "avg_newspaper = df['Newspaper'].mean()\n",
        "avg_newspaper"
      ],
      "metadata": {
        "id": "1H7PQqzo214o"
      },
      "execution_count": null,
      "outputs": []
    },
    {
      "cell_type": "code",
      "source": [
        "sum = 0\n",
        "for i in df.index:\n",
        "  if df.loc[i,'Newspaper'] > avg_newspaper:\n",
        "    sum += df.loc[i,'Sales']\n",
        "print(sum)"
      ],
      "metadata": {
        "id": "veJqHWRg3Fhs"
      },
      "execution_count": null,
      "outputs": []
    },
    {
      "cell_type": "code",
      "source": [
        "# Câu 20:\n",
        "A = df[\"Sales\"].mean() # Tính trung bình của cột Sales\n",
        "score = [] # tạo mới list để lưu kết quả đánh giá\n",
        "for i in data[:,3]:\n",
        "  if i > A:\n",
        "    score.append('Good')\n",
        "  if i < A:\n",
        "    score.append('Bad')\n",
        "  if i == A:\n",
        "    score.append('Average')\n",
        "score[7:10]"
      ],
      "metadata": {
        "id": "J61uPOXl3eWI"
      },
      "execution_count": null,
      "outputs": []
    },
    {
      "cell_type": "code",
      "source": [
        "nearest_value = data[0,3]\n",
        "for i in data[:,3]:\n",
        "  if abs(i-A) < abs(nearest_value - A):\n",
        "    nearest_value = i\n",
        "nearest_value"
      ],
      "metadata": {
        "id": "XGF_Qh-o6knQ"
      },
      "execution_count": null,
      "outputs": []
    },
    {
      "cell_type": "code",
      "source": [
        "scores = [] # tạo mới list để lưu kết quả đánh giá\n",
        "for i in data[:,3]:\n",
        "  if i > nearest_value:\n",
        "    scores.append('Good')\n",
        "  if i < nearest_value:\n",
        "    scores.append('Bad')\n",
        "  if i == nearest_value:\n",
        "    scores.append('Average')\n",
        "score[7:10]"
      ],
      "metadata": {
        "id": "-XAk2DWS7eHg"
      },
      "execution_count": null,
      "outputs": []
    },
    {
      "cell_type": "markdown",
      "source": [],
      "metadata": {
        "id": "n3OcfWiR4o21"
      }
    }
  ]
}