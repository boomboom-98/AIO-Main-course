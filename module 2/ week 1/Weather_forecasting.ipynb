{
  "nbformat": 4,
  "nbformat_minor": 0,
  "metadata": {
    "colab": {
      "private_outputs": true,
      "provenance": []
    },
    "kernelspec": {
      "name": "python3",
      "display_name": "Python 3"
    },
    "language_info": {
      "name": "python"
    }
  },
  "cells": [
    {
      "cell_type": "code",
      "execution_count": null,
      "metadata": {
        "id": "9NT5ud9MrE3k"
      },
      "outputs": [],
      "source": [
        "import pandas as pd\n",
        "import numpy as np\n",
        "data = pd.read_csv('temperature-1d.csv').to_numpy()\n",
        "temp = data[:,1]"
      ]
    },
    {
      "cell_type": "code",
      "source": [
        "import matplotlib.pyplot as plt\n",
        "# %matplotlib qt\n",
        "plt.plot(temp)\n",
        "plt.xlabel(\"Index\")\n",
        "plt.ylabel(\"Temperature\")\n",
        "plt.show()"
      ],
      "metadata": {
        "id": "z7GIOsdOsbga"
      },
      "execution_count": null,
      "outputs": []
    },
    {
      "cell_type": "code",
      "source": [
        "temp_rs = temp.reshape(-1,24) # Reshape to data of 1 day in 1 row\n",
        "print(temp_rs.shape)"
      ],
      "metadata": {
        "id": "zV6sT0fvs60n"
      },
      "execution_count": null,
      "outputs": []
    },
    {
      "cell_type": "code",
      "source": [
        "# Compute mean for each 24 data points\n",
        "mean_24 = np.mean(temp_rs, axis=1)\n",
        "print(mean_24)"
      ],
      "metadata": {
        "id": "WqbCwU7gtNS7"
      },
      "execution_count": null,
      "outputs": []
    },
    {
      "cell_type": "code",
      "source": [
        "result = np.repeat(mean_24, 24)\n",
        "print(temp.shape)\n",
        "print(result.shape)"
      ],
      "metadata": {
        "id": "0OkCmNpcttL4"
      },
      "execution_count": null,
      "outputs": []
    },
    {
      "cell_type": "code",
      "source": [
        "plt.plot(temp, label = 'Orginal temperature')\n",
        "plt.plot(result, label = 'Mean temperature')\n",
        "plt.xlabel('Index')\n",
        "plt.ylabel('Temperature')\n",
        "plt.title('Temperature data and Mean temperature')\n",
        "plt.show()"
      ],
      "metadata": {
        "id": "jsqByk57t_Rd"
      },
      "execution_count": null,
      "outputs": []
    }
  ]
}