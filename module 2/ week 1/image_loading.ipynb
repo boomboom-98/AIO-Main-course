{
  "cells": [
    {
      "cell_type": "markdown",
      "metadata": {
        "id": "tyxOrHPkblCq"
      },
      "source": [
        "### get file paths"
      ]
    },
    {
      "cell_type": "code",
      "execution_count": null,
      "metadata": {
        "id": "u85exIRdblC4",
        "outputId": "4fa1cb23-b306-4b3d-a16e-4ba6adbc61d0"
      },
      "outputs": [
        {
          "name": "stdout",
          "output_type": "stream",
          "text": [
            "samples/cat.5.jpg\n",
            "samples/cat.4.jpg\n",
            "samples/cat.0.jpg\n",
            "samples/dog.7866.jpg\n",
            "samples/cat.1.jpg\n",
            "samples/cat.3.jpg\n",
            "samples/dog.7864.jpg\n",
            "samples/dog.7865.jpg\n",
            "samples/cat.2.jpg\n"
          ]
        }
      ],
      "source": [
        "import glob\n",
        "\n",
        "file_paths = glob.glob('samples/*jpg')\n",
        "\n",
        "# print paths\n",
        "for path in file_paths:\n",
        "    print(path)"
      ]
    },
    {
      "cell_type": "code",
      "source": [
        "from google.colab import drive\n",
        "drive.mount('/content/drive')"
      ],
      "metadata": {
        "id": "NRF5E0EQcnVN",
        "outputId": "f5ebd9dc-916e-41e0-f99d-e208374b2da2",
        "colab": {
          "base_uri": "https://localhost:8080/"
        }
      },
      "execution_count": 1,
      "outputs": [
        {
          "output_type": "stream",
          "name": "stdout",
          "text": [
            "Mounted at /content/drive\n"
          ]
        }
      ]
    },
    {
      "cell_type": "code",
      "execution_count": null,
      "metadata": {
        "id": "z1-dv63yblDF"
      },
      "outputs": [],
      "source": []
    },
    {
      "cell_type": "markdown",
      "metadata": {
        "id": "tswXZ-C2blDH"
      },
      "source": [
        "### Load images (samples folder)"
      ]
    },
    {
      "cell_type": "code",
      "execution_count": 2,
      "metadata": {
        "id": "N51y1KQwblDK",
        "outputId": "fc6e6fe9-7f32-468f-ddaf-25d33e32bb71",
        "colab": {
          "base_uri": "https://localhost:8080/"
        }
      },
      "outputs": [
        {
          "output_type": "stream",
          "name": "stdout",
          "text": [
            "/content/drive/MyDrive/samples/cat.4.jpg (375, 499, 3)\n",
            "/content/drive/MyDrive/samples/dog.7866.jpg (500, 435, 3)\n",
            "/content/drive/MyDrive/samples/cat.2.jpg (396, 312, 3)\n",
            "/content/drive/MyDrive/samples/dog.7864.jpg (281, 359, 3)\n",
            "/content/drive/MyDrive/samples/cat.1.jpg (280, 300, 3)\n",
            "/content/drive/MyDrive/samples/cat.0.jpg (374, 500, 3)\n",
            "/content/drive/MyDrive/samples/cat.3.jpg (414, 500, 3)\n",
            "/content/drive/MyDrive/samples/cat.5.jpg (144, 175, 3)\n",
            "/content/drive/MyDrive/samples/dog.7865.jpg (332, 499, 3)\n"
          ]
        }
      ],
      "source": [
        "import glob\n",
        "import cv2\n",
        "\n",
        "file_paths = glob.glob('/content/drive/MyDrive/samples/*jpg')\n",
        "\n",
        "# read and resize images\n",
        "for path in file_paths:\n",
        "    img = cv2.imread(path, 1)\n",
        "    print(path, img.shape)"
      ]
    },
    {
      "cell_type": "code",
      "execution_count": null,
      "metadata": {
        "id": "FObUSpOkblDN"
      },
      "outputs": [],
      "source": []
    },
    {
      "cell_type": "code",
      "execution_count": 4,
      "metadata": {
        "id": "QLqiuzbKblDP",
        "outputId": "3d02dcdc-bc32-4d1f-eec1-b6c914690d43",
        "colab": {
          "base_uri": "https://localhost:8080/"
        }
      },
      "outputs": [
        {
          "output_type": "stream",
          "name": "stdout",
          "text": [
            "/content/drive/MyDrive/samples/cat.4.jpg (50, 50, 3)\n",
            "/content/drive/MyDrive/samples/dog.7866.jpg (50, 50, 3)\n",
            "/content/drive/MyDrive/samples/cat.2.jpg (50, 50, 3)\n",
            "/content/drive/MyDrive/samples/dog.7864.jpg (50, 50, 3)\n",
            "/content/drive/MyDrive/samples/cat.1.jpg (50, 50, 3)\n",
            "/content/drive/MyDrive/samples/cat.0.jpg (50, 50, 3)\n",
            "/content/drive/MyDrive/samples/cat.3.jpg (50, 50, 3)\n",
            "/content/drive/MyDrive/samples/cat.5.jpg (50, 50, 3)\n",
            "/content/drive/MyDrive/samples/dog.7865.jpg (50, 50, 3)\n"
          ]
        }
      ],
      "source": [
        "import glob\n",
        "import cv2\n",
        "\n",
        "file_paths = glob.glob('/content/drive/MyDrive/samples/*jpg')\n",
        "\n",
        "# read and resize images\n",
        "for path in file_paths:\n",
        "    img = cv2.imread(path, 1)\n",
        "    img = cv2.resize(img, (50, 50))\n",
        "    print(path, img.shape)"
      ]
    },
    {
      "cell_type": "code",
      "execution_count": null,
      "metadata": {
        "id": "t2JtRod9blDm"
      },
      "outputs": [],
      "source": []
    },
    {
      "cell_type": "code",
      "execution_count": 5,
      "metadata": {
        "id": "B3hEs7CjblEJ",
        "outputId": "3b98c584-069c-4fbd-ad58-d999c9bee175",
        "colab": {
          "base_uri": "https://localhost:8080/"
        }
      },
      "outputs": [
        {
          "output_type": "stream",
          "name": "stdout",
          "text": [
            "9\n"
          ]
        }
      ],
      "source": [
        "import glob\n",
        "import cv2\n",
        "\n",
        "file_paths = glob.glob('/content/drive/MyDrive/samples/*jpg')\n",
        "\n",
        "# read and resize images\n",
        "images = []\n",
        "for path in file_paths:\n",
        "    img = cv2.imread(path, 1)\n",
        "    img = cv2.resize(img, (50, 50))\n",
        "\n",
        "    # add to list\n",
        "    images.append(img)\n",
        "\n",
        "# test (images is a list)\n",
        "print(len(images))"
      ]
    },
    {
      "cell_type": "code",
      "execution_count": 6,
      "metadata": {
        "id": "ufiGJGiFblEy",
        "outputId": "b4c7a19f-15f3-47ad-a0bc-2d408077dfb7",
        "colab": {
          "base_uri": "https://localhost:8080/"
        }
      },
      "outputs": [
        {
          "output_type": "stream",
          "name": "stdout",
          "text": [
            "(2, 2, 2)\n",
            "[[0 1]\n",
            " [2 3]]\n",
            "[[0 1]\n",
            " [2 3]]\n"
          ]
        }
      ],
      "source": [
        "import numpy as np\n",
        "arr1 = np.arange(4).reshape(2,2)\n",
        "arr2 = np.arange(4).reshape(2,2)\n",
        "data = [arr1, arr2]\n",
        "data = np.array(data)\n",
        "print(data.shape)\n",
        "print(data[0])\n",
        "print(data[1])\n"
      ]
    },
    {
      "cell_type": "code",
      "execution_count": null,
      "metadata": {
        "id": "Hh8wrbeVblE3"
      },
      "outputs": [],
      "source": []
    },
    {
      "cell_type": "code",
      "execution_count": 8,
      "metadata": {
        "id": "ZRXi8o0vblE9",
        "outputId": "d5569da4-3c9b-4d78-dd81-fc311dfbe027",
        "colab": {
          "base_uri": "https://localhost:8080/"
        }
      },
      "outputs": [
        {
          "output_type": "stream",
          "name": "stdout",
          "text": [
            "(9, 50, 50, 3)\n"
          ]
        }
      ],
      "source": [
        "import glob\n",
        "import cv2\n",
        "import numpy as np\n",
        "\n",
        "file_paths = glob.glob('/content/drive/MyDrive/samples/*jpg')\n",
        "\n",
        "# read and resize images\n",
        "images = []\n",
        "for path in file_paths:\n",
        "    img = cv2.imread(path, 1)\n",
        "    img = cv2.resize(img, (50, 50))\n",
        "\n",
        "    # add to list\n",
        "    images.append(img)\n",
        "\n",
        "# convert list to numpy array\n",
        "images = np.array(images)\n",
        "\n",
        "# test (images is an array)\n",
        "print(images.shape)"
      ]
    },
    {
      "cell_type": "code",
      "execution_count": 11,
      "metadata": {
        "id": "EbKFf8D5blFB",
        "outputId": "588cf6e0-74dc-43f7-e4d2-b31cbeea7bdb",
        "colab": {
          "base_uri": "https://localhost:8080/",
          "height": 450
        }
      },
      "outputs": [
        {
          "output_type": "execute_result",
          "data": {
            "text/plain": [
              "<matplotlib.image.AxesImage at 0x791826d8da20>"
            ]
          },
          "metadata": {},
          "execution_count": 11
        },
        {
          "output_type": "display_data",
          "data": {
            "text/plain": [
              "<Figure size 640x480 with 1 Axes>"
            ],
            "image/png": "[encoded data removed]"
          },
          "metadata": {}
        }
      ],
      "source": [
        "import matplotlib.pyplot as plt\n",
        "\n",
        "an_image = images[6]\n",
        "an_image = cv2.cvtColor(an_image,\n",
        "                        cv2.COLOR_BGR2RGB)\n",
        "plt.imshow(an_image)"
      ]
    },
    {
      "cell_type": "code",
      "execution_count": 12,
      "metadata": {
        "id": "F0dm1VL_blKc",
        "outputId": "cde5b27e-6241-4012-fe6c-56e14eeff690",
        "colab": {
          "base_uri": "https://localhost:8080/",
          "height": 191
        }
      },
      "outputs": [
        {
          "output_type": "display_data",
          "data": {
            "text/plain": [
              "<Figure size 400x200 with 1 Axes>"
            ],
            "image/png": "[encoded data removed]"
          },
          "metadata": {}
        }
      ],
      "source": [
        "import matplotlib.pyplot as plt\n",
        "\n",
        "an_image = images[1]\n",
        "an_image = cv2.cvtColor(an_image,\n",
        "                        cv2.COLOR_BGR2RGB)\n",
        "plt.figure(figsize=(4, 2))\n",
        "plt.imshow(an_image)\n",
        "plt.axis('off')\n",
        "plt.show()"
      ]
    },
    {
      "cell_type": "code",
      "execution_count": null,
      "metadata": {
        "id": "TfLsUMCyblKf"
      },
      "outputs": [],
      "source": []
    },
    {
      "cell_type": "markdown",
      "metadata": {
        "id": "Azv64fdSblKg"
      },
      "source": [
        "### load image"
      ]
    },
    {
      "cell_type": "code",
      "execution_count": 13,
      "metadata": {
        "id": "kjBQch06blKg",
        "outputId": "cbbbdfd8-4ccb-4443-b1a5-9f6b3e4c90dc",
        "colab": {
          "base_uri": "https://localhost:8080/"
        }
      },
      "outputs": [
        {
          "output_type": "stream",
          "name": "stdout",
          "text": [
            "(0,)\n"
          ]
        }
      ],
      "source": [
        "import glob\n",
        "import cv2\n",
        "import numpy as np\n",
        "\n",
        "file_paths = glob.glob('train/*jpg')\n",
        "\n",
        "# read and resize images\n",
        "images = []\n",
        "for path in file_paths:\n",
        "    img = cv2.imread(path, 1)\n",
        "    img = cv2.resize(img, (50, 50))\n",
        "\n",
        "    # add to list\n",
        "    images.append(img)\n",
        "\n",
        "# convert list to numpy array\n",
        "images = np.array(images)\n",
        "\n",
        "# test (images is an array)\n",
        "print(images.shape)"
      ]
    },
    {
      "cell_type": "code",
      "execution_count": null,
      "metadata": {
        "id": "RRg5LHQQblKu"
      },
      "outputs": [],
      "source": []
    },
    {
      "cell_type": "code",
      "execution_count": null,
      "metadata": {
        "id": "oaCnsbenblKu",
        "outputId": "0dfebbf8-30db-44c2-a6d6-ad475d55d907"
      },
      "outputs": [
        {
          "name": "stderr",
          "output_type": "stream",
          "text": [
            "100%|██████████| 22000/22000 [00:09<00:00, 2379.54it/s]"
          ]
        },
        {
          "name": "stdout",
          "output_type": "stream",
          "text": [
            "(22000, 50, 50, 3)\n"
          ]
        },
        {
          "name": "stderr",
          "output_type": "stream",
          "text": [
            "\n"
          ]
        }
      ],
      "source": [
        "# using\n",
        "\n",
        "import glob\n",
        "import cv2\n",
        "import numpy as np\n",
        "from tqdm import tqdm\n",
        "\n",
        "file_paths = glob.glob('train/*jpg')\n",
        "\n",
        "# read and resize images\n",
        "images = []\n",
        "for path in tqdm(file_paths):\n",
        "    img = cv2.imread(path, 1)\n",
        "    img = cv2.resize(img, (50, 50))\n",
        "\n",
        "    # add to list\n",
        "    images.append(img)\n",
        "\n",
        "# convert list to numpy array\n",
        "images = np.array(images)\n",
        "\n",
        "# test (images is an array)\n",
        "print(images.shape)"
      ]
    },
    {
      "cell_type": "code",
      "execution_count": null,
      "metadata": {
        "id": "GczGJcUCblK5"
      },
      "outputs": [],
      "source": []
    }
  ],
  "metadata": {
    "kernelspec": {
      "display_name": "Python 3 (ipykernel)",
      "language": "python",
      "name": "python3"
    },
    "language_info": {
      "codemirror_mode": {
        "name": "ipython",
        "version": 3
      },
      "file_extension": ".py",
      "mimetype": "text/x-python",
      "name": "python",
      "nbconvert_exporter": "python",
      "pygments_lexer": "ipython3",
      "version": "3.12.4"
    },
    "colab": {
      "provenance": []
    }
  },
  "nbformat": 4,
  "nbformat_minor": 0
}