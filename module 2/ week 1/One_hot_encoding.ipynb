{
  "nbformat": 4,
  "nbformat_minor": 0,
  "metadata": {
    "colab": {
      "private_outputs": true,
      "provenance": []
    },
    "kernelspec": {
      "name": "python3",
      "display_name": "Python 3"
    },
    "language_info": {
      "name": "python"
    }
  },
  "cells": [
    {
      "cell_type": "markdown",
      "source": [
        "# Mã hóa One-hot\n",
        "cách truyền thống nhất để đưa dữ liệu hạng mục về dạng số là mã hóa one-hot. trong cách mã hóa này, một \" từ điển\" cần được xây dựng chứa tất cả các giá trị của từng dữ liệu hạng mục. Sau đó mỗi giá trị hạng mục sẽ được mã hóa bằng một vector nhị phân với toàn bộ các phần tử bằng 0 trừ một phần tử bằng 1 tương ứng với vị trí của giá trị hạng mục đó trong từ điển."
      ],
      "metadata": {
        "id": "UGP9X_n28WXN"
      }
    },
    {
      "cell_type": "code",
      "execution_count": null,
      "metadata": {
        "id": "P7eEPKrm2mpl"
      },
      "outputs": [],
      "source": [
        "import numpy as np\n",
        "# num_labels\n",
        "K =3\n",
        "# num_samples\n",
        "N = 9\n",
        "labels = [0, 0, 0, 1, 1, 1, 2, 2, 2]\n",
        "labels = np.array(labels)\n",
        "print(labels)"
      ]
    },
    {
      "cell_type": "code",
      "source": [
        "# create an NxK array\n",
        "labels_onehot = np.zeros((N,K))\n",
        "\n",
        "# one-hot encoding\n",
        "labels_onehot[np.arange(N), labels] = 1\n",
        "print(labels_onehot)"
      ],
      "metadata": {
        "id": "yU0CvHrl7Tr_"
      },
      "execution_count": null,
      "outputs": []
    }
  ]
}