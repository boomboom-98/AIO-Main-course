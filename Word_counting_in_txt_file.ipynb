{
  "nbformat": 4,
  "nbformat_minor": 0,
  "metadata": {
    "colab": {
      "private_outputs": true,
      "provenance": [],
      "authorship_tag": "ABX9TyNukDKO55pmOfFN8sbhx4we",
      "include_colab_link": true
    },
    "kernelspec": {
      "name": "python3",
      "display_name": "Python 3"
    },
    "language_info": {
      "name": "python"
    }
  },
  "cells": [
    {
      "cell_type": "markdown",
      "metadata": {
        "id": "view-in-github",
        "colab_type": "text"
      },
      "source": [
        "<a href=\"https://colab.research.google.com/github/boomboom-98/AIO-Main-course/blob/Feature/Word_counting_in_txt_file.ipynb\" target=\"_parent\"><img src=\"https://colab.research.google.com/assets/colab-badge.svg\" alt=\"Open In Colab\"/></a>"
      ]
    },
    {
      "cell_type": "code",
      "source": [
        "def count_word(file_path):\n",
        "    with open(file_path, 'r') as f:\n",
        "        document = f.read()\n",
        "    words = document.split()\n",
        "    print(len(words))\n",
        "    count = {}\n",
        "    for word in words:\n",
        "        if word in count:\n",
        "            count[word] += 1\n",
        "        else:\n",
        "            count[word] = 1\n",
        "    return count\n",
        "file_path = '/content/P1_data.txt'\n",
        "result = count_word(file_path)\n",
        "assert result['who'] == 3\n",
        "print(result['man'])"
      ],
      "metadata": {
        "id": "3QR62WbyvvDo"
      },
      "execution_count": null,
      "outputs": []
    },
    {
      "cell_type": "code",
      "source": [
        "document[:2]"
      ],
      "metadata": {
        "id": "XUrvENRxwIqn"
      },
      "execution_count": null,
      "outputs": []
    }
  ]
}