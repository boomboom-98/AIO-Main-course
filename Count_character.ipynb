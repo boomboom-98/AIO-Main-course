{
  "nbformat": 4,
  "nbformat_minor": 0,
  "metadata": {
    "colab": {
      "private_outputs": true,
      "provenance": [],
      "authorship_tag": "ABX9TyNzvyyrB6cAy2viz+pQWXsz",
      "include_colab_link": true
    },
    "kernelspec": {
      "name": "python3",
      "display_name": "Python 3"
    },
    "language_info": {
      "name": "python"
    }
  },
  "cells": [
    {
      "cell_type": "markdown",
      "metadata": {
        "id": "view-in-github",
        "colab_type": "text"
      },
      "source": [
        "<a href=\"https://colab.research.google.com/github/boomboom-98/AIO-Main-course/blob/Develop/Count_character.ipynb\" target=\"_parent\"><img src=\"https://colab.research.google.com/assets/colab-badge.svg\" alt=\"Open In Colab\"/></a>"
      ]
    },
    {
      "cell_type": "code",
      "execution_count": null,
      "metadata": {
        "id": "Sr3Zb92fCDTs"
      },
      "outputs": [],
      "source": [
        "def counted(f):\n",
        "  count = dict()\n",
        "  width = len(f)\n",
        "  for i in range(0,width):\n",
        "    if f[i] not in list(count.keys()):\n",
        "      count[f[i]] = 1\n",
        "    else:\n",
        "      count[f[i]] += 1\n",
        "  print(count)\n",
        "  return count\n"
      ]
    },
    {
      "cell_type": "code",
      "source": [
        "counted(\"aaddccc\")"
      ],
      "metadata": {
        "id": "uPsZdx--C2ZK"
      },
      "execution_count": null,
      "outputs": []
    }
  ]
}