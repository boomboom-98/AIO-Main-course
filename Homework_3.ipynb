{
  "cells": [
    {
      "cell_type": "code",
      "execution_count": null,
      "metadata": {
        "colab": {
          "base_uri": "https://localhost:8080/"
        },
        "id": "QImk5IlYBNr3",
        "outputId": "dfce342b-d95a-4738-937e-a9f9a007f860"
      },
      "outputs": [
        {
          "name": "stdout",
          "output_type": "stream",
          "text": [
            "   Day   Outlook Temperature Humidity    Wind PlayTennis\n",
            "0   D1     Sunny         Hot     High    Weak         No\n",
            "1   D2     Sunny         Hot     High  Strong         No\n",
            "2   D3  Overcast         Hot     High    Weak        Yes\n",
            "3   D4      Rain        Mild     High    Weak        Yes\n",
            "4   D5      Rain        Cool   Normal    Weak        Yes\n",
            "5   D6      Rain        Cool   Normal  Strong         No\n",
            "6   D7  Overcast        Cool   Normal  Strong        Yes\n",
            "7   D8  Overcast        Mild     High    Weak         No\n",
            "8   D9     Sunny        Cool   Normal    Weak        Yes\n",
            "9  D10      Rain        Mild   Normal    Weak        Yes\n"
          ]
        }
      ],
      "source": [
        "import pandas as pd\n",
        "\n",
        "data = [\n",
        "    {\"Day\": \"D1\", \"Outlook\": \"Sunny\", \"Temperature\": \"Hot\", \"Humidity\": \"High\", \"Wind\": \"Weak\", \"PlayTennis\": \"No\"},\n",
        "    {\"Day\": \"D2\", \"Outlook\": \"Sunny\", \"Temperature\": \"Hot\", \"Humidity\": \"High\", \"Wind\": \"Strong\", \"PlayTennis\": \"No\"},\n",
        "    {\"Day\": \"D3\", \"Outlook\": \"Overcast\", \"Temperature\": \"Hot\", \"Humidity\": \"High\", \"Wind\": \"Weak\", \"PlayTennis\": \"Yes\"},\n",
        "    {\"Day\": \"D4\", \"Outlook\": \"Rain\", \"Temperature\": \"Mild\", \"Humidity\": \"High\", \"Wind\": \"Weak\", \"PlayTennis\": \"Yes\"},\n",
        "    {\"Day\": \"D5\", \"Outlook\": \"Rain\", \"Temperature\": \"Cool\", \"Humidity\": \"Normal\", \"Wind\": \"Weak\", \"PlayTennis\": \"Yes\"},\n",
        "    {\"Day\": \"D6\", \"Outlook\": \"Rain\", \"Temperature\": \"Cool\", \"Humidity\": \"Normal\", \"Wind\": \"Strong\", \"PlayTennis\": \"No\"},\n",
        "    {\"Day\": \"D7\", \"Outlook\": \"Overcast\", \"Temperature\": \"Cool\", \"Humidity\": \"Normal\", \"Wind\": \"Strong\", \"PlayTennis\": \"Yes\"},\n",
        "    {\"Day\": \"D8\", \"Outlook\": \"Overcast\", \"Temperature\": \"Mild\", \"Humidity\": \"High\", \"Wind\": \"Weak\", \"PlayTennis\": \"No\"},\n",
        "    {\"Day\": \"D9\", \"Outlook\": \"Sunny\", \"Temperature\": \"Cool\", \"Humidity\": \"Normal\", \"Wind\": \"Weak\", \"PlayTennis\": \"Yes\"},\n",
        "    {\"Day\": \"D10\", \"Outlook\": \"Rain\", \"Temperature\": \"Mild\", \"Humidity\": \"Normal\", \"Wind\": \"Weak\", \"PlayTennis\": \"Yes\"}\n",
        "]\n",
        "\n",
        "df = pd.DataFrame(data)\n",
        "print(df)"
      ]
    },
    {
      "cell_type": "code",
      "execution_count": 38,
      "metadata": {
        "colab": {
          "base_uri": "https://localhost:8080/"
        },
        "id": "OhVtFSOaFh2C",
        "outputId": "f01f77b9-70fb-45e5-d24f-31b835e3beba"
      },
      "outputs": [
        {
          "name": "stdout",
          "output_type": "stream",
          "text": [
            "N = 10\n"
          ]
        }
      ],
      "source": [
        "N = len(df)\n",
        "print(f'N = {N}')"
      ]
    },
    {
      "cell_type": "code",
      "execution_count": null,
      "metadata": {
        "colab": {
          "base_uri": "https://localhost:8080/"
        },
        "id": "YSv5nZBcAuOK",
        "outputId": "e121e451-780e-4699-aae8-fd968904a2b2"
      },
      "outputs": [
        {
          "name": "stdout",
          "output_type": "stream",
          "text": [
            "6 4\n"
          ]
        }
      ],
      "source": [
        "Yes, No = df['PlayTennis'].value_counts()\n",
        "print(Yes, No)"
      ]
    },
    {
      "cell_type": "code",
      "execution_count": 40,
      "metadata": {
        "colab": {
          "base_uri": "https://localhost:8080/"
        },
        "id": "2g3MsWBPCaSV",
        "outputId": "6fb00a5a-c74b-4519-b5e2-99d8ce4e166e"
      },
      "outputs": [
        {
          "name": "stdout",
          "output_type": "stream",
          "text": [
            "P(\"Play Tennis\" = \"Yes\") = 0.6\n",
            "P(\"Play Tennis\" = \"No\") = 0.4\n"
          ]
        }
      ],
      "source": [
        "P_Yes = Yes/(Yes+No)\n",
        "P_No = No/(Yes+No)\n",
        "\n",
        "print(f'P(\"Play Tennis\" = \"Yes\") = {P_Yes}')\n",
        "print(f'P(\"Play Tennis\" = \"No\") = {P_No}')"
      ]
    },
    {
      "cell_type": "code",
      "execution_count": 71,
      "metadata": {
        "colab": {
          "base_uri": "https://localhost:8080/"
        },
        "id": "yjUnpJl5C43C",
        "outputId": "bac5dfa3-3434-4838-9eba-9789586f7716"
      },
      "outputs": [
        {
          "name": "stdout",
          "output_type": "stream",
          "text": [
            "P1 = 0.16666666666666666\n",
            "P2 = 0.5\n",
            "P3 = 0.3333333333333333\n",
            "P4 = 0.16666666666666666\n",
            "P_Yes = 0.6\n",
            "P(\"Play Tennis\" = \"Yes\"|X) = 0.00277778\n"
          ]
        }
      ],
      "source": [
        "P1 = len(df.where((df['Outlook'] == 'Sunny') & (df['PlayTennis'] == 'Yes')).dropna()) / Yes\n",
        "P2 = len(df.where((df['Temperature']=='Cool') & (df['PlayTennis'] == 'Yes')).dropna()) / Yes\n",
        "P3 = len(df.where((df['Humidity']=='High') & (df['PlayTennis'] == 'Yes')).dropna()) / Yes\n",
        "P4 = len(df.where((df['Wind']=='Strong') & (df['PlayTennis'] == 'Yes')).dropna()) / Yes\n",
        "\n",
        "print(f'P1 = {P1}\\nP2 = {P2}\\nP3 = {P3}\\nP4 = {P4}\\nP_Yes = {P_Yes}')\n",
        "\n",
        "P_Yes_X = P1*P2*P3*P4*P_Yes\n",
        "print(f'P(\"Play Tennis\" = \"Yes\"|X) = {P_Yes_X:.8f}')"
      ]
    },
    {
      "cell_type": "code",
      "execution_count": 72,
      "metadata": {
        "colab": {
          "base_uri": "https://localhost:8080/"
        },
        "id": "SRuVvfkVJWNq",
        "outputId": "0ef85a34-d612-4a3c-9eea-1b32f1f36da7"
      },
      "outputs": [
        {
          "name": "stdout",
          "output_type": "stream",
          "text": [
            "P1 = 0.5\n",
            "P2 = 0.25\n",
            "P3 = 0.75\n",
            "P4 = 0.5\n",
            "P_No = 0.4\n",
            "P(\"Play Tennis\" = \"No\"|X) = 0.01875000\n"
          ]
        }
      ],
      "source": [
        "P1 = len(df.where((df['Outlook'] == 'Sunny') & (df['PlayTennis'] == 'No')).dropna()) / No\n",
        "P2 = len(df.where((df['Temperature']=='Cool') & (df['PlayTennis'] == 'No')).dropna()) / No\n",
        "P3 = len(df.where((df['Humidity']=='High') & (df['PlayTennis'] == 'No')).dropna()) / No\n",
        "P4 = len(df.where((df['Wind']=='Strong') & (df['PlayTennis'] == 'No')).dropna()) / No\n",
        "\n",
        "print(f'P1 = {P1}\\nP2 = {P2}\\nP3 = {P3}\\nP4 = {P4}\\nP_No = {P_No}')\n",
        "\n",
        "P_No_X = P1*P2*P3*P4*P_No\n",
        "print(f'P(\"Play Tennis\" = \"No\"|X) = {P_No_X:.8f}')"
      ]
    },
    {
      "cell_type": "code",
      "execution_count": 74,
      "metadata": {
        "colab": {
          "base_uri": "https://localhost:8080/"
        },
        "id": "j48Z8K2iJm1m",
        "outputId": "478598d8-d71f-4ad6-c76b-e70c257a1de9"
      },
      "outputs": [
        {
          "name": "stdout",
          "output_type": "stream",
          "text": [
            "No\n"
          ]
        }
      ],
      "source": [
        "print(\"Yes\" if P_Yes_X > P_No_X else \"No\")"
      ]
    },
    {
      "cell_type": "code",
      "execution_count": 76,
      "metadata": {
        "colab": {
          "base_uri": "https://localhost:8080/",
          "height": 676
        },
        "id": "W8_QgWybLVRq",
        "outputId": "d45325c5-7bbc-4d66-f50f-4b511d9e3066"
      },
      "outputs": [
        {
          "data": {
            "application/vnd.google.colaboratory.intrinsic+json": {
              "summary": "{\n  \"name\": \"df\",\n  \"rows\": 20,\n  \"fields\": [\n    {\n      \"column\": \"Day\",\n      \"properties\": {\n        \"dtype\": \"category\",\n        \"num_unique_values\": 4,\n        \"samples\": [\n          \"Holiday\",\n          \"Sunday\",\n          \"Weekday\"\n        ],\n        \"semantic_type\": \"\",\n        \"description\": \"\"\n      }\n    },\n    {\n      \"column\": \"Season\",\n      \"properties\": {\n        \"dtype\": \"category\",\n        \"num_unique_values\": 4,\n        \"samples\": [\n          \"Winter\",\n          \"Autumn\",\n          \"Spring\"\n        ],\n        \"semantic_type\": \"\",\n        \"description\": \"\"\n      }\n    },\n    {\n      \"column\": \"Fog\",\n      \"properties\": {\n        \"dtype\": \"category\",\n        \"num_unique_values\": 3,\n        \"samples\": [\n          \"None\",\n          \"High\",\n          \"Normal\"\n        ],\n        \"semantic_type\": \"\",\n        \"description\": \"\"\n      }\n    },\n    {\n      \"column\": \"Rain\",\n      \"properties\": {\n        \"dtype\": \"category\",\n        \"num_unique_values\": 3,\n        \"samples\": [\n          \"None\",\n          \"Slight\",\n          \"Heavy\"\n        ],\n        \"semantic_type\": \"\",\n        \"description\": \"\"\n      }\n    },\n    {\n      \"column\": \"Class\",\n      \"properties\": {\n        \"dtype\": \"category\",\n        \"num_unique_values\": 4,\n        \"samples\": [\n          \"Late\",\n          \"Cancelled\",\n          \"On Time\"\n        ],\n        \"semantic_type\": \"\",\n        \"description\": \"\"\n      }\n    }\n  ]\n}",
              "type": "dataframe",
              "variable_name": "df"
            },
            "text/html": [
              "\n",
              "  <div id=\"df-3637ac7e-3d90-4b18-b8d6-4b3cced0300e\" class=\"colab-df-container\">\n",
              "    <div>\n",
              "<style scoped>\n",
              "    .dataframe tbody tr th:only-of-type {\n",
              "        vertical-align: middle;\n",
              "    }\n",
              "\n",
              "    .dataframe tbody tr th {\n",
              "        vertical-align: top;\n",
              "    }\n",
              "\n",
              "    .dataframe thead th {\n",
              "        text-align: right;\n",
              "    }\n",
              "</style>\n",
              "<table border=\"1\" class=\"dataframe\">\n",
              "  <thead>\n",
              "    <tr style=\"text-align: right;\">\n",
              "      <th></th>\n",
              "      <th>Day</th>\n",
              "      <th>Season</th>\n",
              "      <th>Fog</th>\n",
              "      <th>Rain</th>\n",
              "      <th>Class</th>\n",
              "    </tr>\n",
              "  </thead>\n",
              "  <tbody>\n",
              "    <tr>\n",
              "      <th>0</th>\n",
              "      <td>Weekday</td>\n",
              "      <td>Spring</td>\n",
              "      <td>None</td>\n",
              "      <td>None</td>\n",
              "      <td>On Time</td>\n",
              "    </tr>\n",
              "    <tr>\n",
              "      <th>1</th>\n",
              "      <td>Weekday</td>\n",
              "      <td>Winter</td>\n",
              "      <td>None</td>\n",
              "      <td>Slight</td>\n",
              "      <td>On Time</td>\n",
              "    </tr>\n",
              "    <tr>\n",
              "      <th>2</th>\n",
              "      <td>Weekday</td>\n",
              "      <td>Winter</td>\n",
              "      <td>None</td>\n",
              "      <td>None</td>\n",
              "      <td>On Time</td>\n",
              "    </tr>\n",
              "    <tr>\n",
              "      <th>3</th>\n",
              "      <td>Holiday</td>\n",
              "      <td>Winter</td>\n",
              "      <td>High</td>\n",
              "      <td>Slight</td>\n",
              "      <td>Late</td>\n",
              "    </tr>\n",
              "    <tr>\n",
              "      <th>4</th>\n",
              "      <td>Saturday</td>\n",
              "      <td>Summer</td>\n",
              "      <td>Normal</td>\n",
              "      <td>None</td>\n",
              "      <td>On Time</td>\n",
              "    </tr>\n",
              "    <tr>\n",
              "      <th>5</th>\n",
              "      <td>Weekday</td>\n",
              "      <td>Autumn</td>\n",
              "      <td>Normal</td>\n",
              "      <td>None</td>\n",
              "      <td>Very Late</td>\n",
              "    </tr>\n",
              "    <tr>\n",
              "      <th>6</th>\n",
              "      <td>Holiday</td>\n",
              "      <td>Summer</td>\n",
              "      <td>High</td>\n",
              "      <td>Slight</td>\n",
              "      <td>On Time</td>\n",
              "    </tr>\n",
              "    <tr>\n",
              "      <th>7</th>\n",
              "      <td>Sunday</td>\n",
              "      <td>Summer</td>\n",
              "      <td>Normal</td>\n",
              "      <td>None</td>\n",
              "      <td>On Time</td>\n",
              "    </tr>\n",
              "    <tr>\n",
              "      <th>8</th>\n",
              "      <td>Weekday</td>\n",
              "      <td>Winter</td>\n",
              "      <td>High</td>\n",
              "      <td>Heavy</td>\n",
              "      <td>Very Late</td>\n",
              "    </tr>\n",
              "    <tr>\n",
              "      <th>9</th>\n",
              "      <td>Weekday</td>\n",
              "      <td>Summer</td>\n",
              "      <td>None</td>\n",
              "      <td>Slight</td>\n",
              "      <td>On Time</td>\n",
              "    </tr>\n",
              "    <tr>\n",
              "      <th>10</th>\n",
              "      <td>Saturday</td>\n",
              "      <td>Spring</td>\n",
              "      <td>High</td>\n",
              "      <td>Heavy</td>\n",
              "      <td>Cancelled</td>\n",
              "    </tr>\n",
              "    <tr>\n",
              "      <th>11</th>\n",
              "      <td>Weekday</td>\n",
              "      <td>Summer</td>\n",
              "      <td>High</td>\n",
              "      <td>Slight</td>\n",
              "      <td>On Time</td>\n",
              "    </tr>\n",
              "    <tr>\n",
              "      <th>12</th>\n",
              "      <td>Weekday</td>\n",
              "      <td>Winter</td>\n",
              "      <td>Normal</td>\n",
              "      <td>None</td>\n",
              "      <td>Late</td>\n",
              "    </tr>\n",
              "    <tr>\n",
              "      <th>13</th>\n",
              "      <td>Weekday</td>\n",
              "      <td>Summer</td>\n",
              "      <td>High</td>\n",
              "      <td>None</td>\n",
              "      <td>On Time</td>\n",
              "    </tr>\n",
              "    <tr>\n",
              "      <th>14</th>\n",
              "      <td>Weekday</td>\n",
              "      <td>Winter</td>\n",
              "      <td>Normal</td>\n",
              "      <td>Heavy</td>\n",
              "      <td>Very Late</td>\n",
              "    </tr>\n",
              "    <tr>\n",
              "      <th>15</th>\n",
              "      <td>Saturday</td>\n",
              "      <td>Autumn</td>\n",
              "      <td>High</td>\n",
              "      <td>Slight</td>\n",
              "      <td>On Time</td>\n",
              "    </tr>\n",
              "    <tr>\n",
              "      <th>16</th>\n",
              "      <td>Weekday</td>\n",
              "      <td>Autumn</td>\n",
              "      <td>None</td>\n",
              "      <td>Heavy</td>\n",
              "      <td>On Time</td>\n",
              "    </tr>\n",
              "    <tr>\n",
              "      <th>17</th>\n",
              "      <td>Holiday</td>\n",
              "      <td>Spring</td>\n",
              "      <td>Normal</td>\n",
              "      <td>Slight</td>\n",
              "      <td>On Time</td>\n",
              "    </tr>\n",
              "    <tr>\n",
              "      <th>18</th>\n",
              "      <td>Weekday</td>\n",
              "      <td>Spring</td>\n",
              "      <td>Normal</td>\n",
              "      <td>None</td>\n",
              "      <td>On Time</td>\n",
              "    </tr>\n",
              "    <tr>\n",
              "      <th>19</th>\n",
              "      <td>Weekday</td>\n",
              "      <td>Spring</td>\n",
              "      <td>Normal</td>\n",
              "      <td>Heavy</td>\n",
              "      <td>On Time</td>\n",
              "    </tr>\n",
              "  </tbody>\n",
              "</table>\n",
              "</div>\n",
              "    <div class=\"colab-df-buttons\">\n",
              "\n",
              "  <div class=\"colab-df-container\">\n",
              "    <button class=\"colab-df-convert\" onclick=\"convertToInteractive('df-3637ac7e-3d90-4b18-b8d6-4b3cced0300e')\"\n",
              "            title=\"Convert this dataframe to an interactive table.\"\n",
              "            style=\"display:none;\">\n",
              "\n",
              "  <svg xmlns=\"http://www.w3.org/2000/svg\" height=\"24px\" viewBox=\"0 -960 960 960\">\n",
              "    <path d=\"M120-120v-720h720v720H120Zm60-500h600v-160H180v160Zm220 220h160v-160H400v160Zm0 220h160v-160H400v160ZM180-400h160v-160H180v160Zm440 0h160v-160H620v160ZM180-180h160v-160H180v160Zm440 0h160v-160H620v160Z\"/>\n",
              "  </svg>\n",
              "    </button>\n",
              "\n",
              "  <style>\n",
              "    .colab-df-container {\n",
              "      display:flex;\n",
              "      gap: 12px;\n",
              "    }\n",
              "\n",
              "    .colab-df-convert {\n",
              "      background-color: #E8F0FE;\n",
              "      border: none;\n",
              "      border-radius: 50%;\n",
              "      cursor: pointer;\n",
              "      display: none;\n",
              "      fill: #1967D2;\n",
              "      height: 32px;\n",
              "      padding: 0 0 0 0;\n",
              "      width: 32px;\n",
              "    }\n",
              "\n",
              "    .colab-df-convert:hover {\n",
              "      background-color: #E2EBFA;\n",
              "      box-shadow: 0px 1px 2px rgba(60, 64, 67, 0.3), 0px 1px 3px 1px rgba(60, 64, 67, 0.15);\n",
              "      fill: #174EA6;\n",
              "    }\n",
              "\n",
              "    .colab-df-buttons div {\n",
              "      margin-bottom: 4px;\n",
              "    }\n",
              "\n",
              "    [theme=dark] .colab-df-convert {\n",
              "      background-color: #3B4455;\n",
              "      fill: #D2E3FC;\n",
              "    }\n",
              "\n",
              "    [theme=dark] .colab-df-convert:hover {\n",
              "      background-color: #434B5C;\n",
              "      box-shadow: 0px 1px 3px 1px rgba(0, 0, 0, 0.15);\n",
              "      filter: drop-shadow(0px 1px 2px rgba(0, 0, 0, 0.3));\n",
              "      fill: #FFFFFF;\n",
              "    }\n",
              "  </style>\n",
              "\n",
              "    <script>\n",
              "      const buttonEl =\n",
              "        document.querySelector('#df-3637ac7e-3d90-4b18-b8d6-4b3cced0300e button.colab-df-convert');\n",
              "      buttonEl.style.display =\n",
              "        google.colab.kernel.accessAllowed ? 'block' : 'none';\n",
              "\n",
              "      async function convertToInteractive(key) {\n",
              "        const element = document.querySelector('#df-3637ac7e-3d90-4b18-b8d6-4b3cced0300e');\n",
              "        const dataTable =\n",
              "          await google.colab.kernel.invokeFunction('convertToInteractive',\n",
              "                                                    [key], {});\n",
              "        if (!dataTable) return;\n",
              "\n",
              "        const docLinkHtml = 'Like what you see? Visit the ' +\n",
              "          '<a target=\"_blank\" href=https://colab.research.google.com/notebooks/data_table.ipynb>data table notebook</a>'\n",
              "          + ' to learn more about interactive tables.';\n",
              "        element.innerHTML = '';\n",
              "        dataTable['output_type'] = 'display_data';\n",
              "        await google.colab.output.renderOutput(dataTable, element);\n",
              "        const docLink = document.createElement('div');\n",
              "        docLink.innerHTML = docLinkHtml;\n",
              "        element.appendChild(docLink);\n",
              "      }\n",
              "    </script>\n",
              "  </div>\n",
              "\n",
              "\n",
              "<div id=\"df-9e5d7ec0-7f4c-4678-b58e-d59ecc9bdecb\">\n",
              "  <button class=\"colab-df-quickchart\" onclick=\"quickchart('df-9e5d7ec0-7f4c-4678-b58e-d59ecc9bdecb')\"\n",
              "            title=\"Suggest charts\"\n",
              "            style=\"display:none;\">\n",
              "\n",
              "<svg xmlns=\"http://www.w3.org/2000/svg\" height=\"24px\"viewBox=\"0 0 24 24\"\n",
              "     width=\"24px\">\n",
              "    <g>\n",
              "        <path d=\"M19 3H5c-1.1 0-2 .9-2 2v14c0 1.1.9 2 2 2h14c1.1 0 2-.9 2-2V5c0-1.1-.9-2-2-2zM9 17H7v-7h2v7zm4 0h-2V7h2v10zm4 0h-2v-4h2v4z\"/>\n",
              "    </g>\n",
              "</svg>\n",
              "  </button>\n",
              "\n",
              "<style>\n",
              "  .colab-df-quickchart {\n",
              "      --bg-color: #E8F0FE;\n",
              "      --fill-color: #1967D2;\n",
              "      --hover-bg-color: #E2EBFA;\n",
              "      --hover-fill-color: #174EA6;\n",
              "      --disabled-fill-color: #AAA;\n",
              "      --disabled-bg-color: #DDD;\n",
              "  }\n",
              "\n",
              "  [theme=dark] .colab-df-quickchart {\n",
              "      --bg-color: #3B4455;\n",
              "      --fill-color: #D2E3FC;\n",
              "      --hover-bg-color: #434B5C;\n",
              "      --hover-fill-color: #FFFFFF;\n",
              "      --disabled-bg-color: #3B4455;\n",
              "      --disabled-fill-color: #666;\n",
              "  }\n",
              "\n",
              "  .colab-df-quickchart {\n",
              "    background-color: var(--bg-color);\n",
              "    border: none;\n",
              "    border-radius: 50%;\n",
              "    cursor: pointer;\n",
              "    display: none;\n",
              "    fill: var(--fill-color);\n",
              "    height: 32px;\n",
              "    padding: 0;\n",
              "    width: 32px;\n",
              "  }\n",
              "\n",
              "  .colab-df-quickchart:hover {\n",
              "    background-color: var(--hover-bg-color);\n",
              "    box-shadow: 0 1px 2px rgba(60, 64, 67, 0.3), 0 1px 3px 1px rgba(60, 64, 67, 0.15);\n",
              "    fill: var(--button-hover-fill-color);\n",
              "  }\n",
              "\n",
              "  .colab-df-quickchart-complete:disabled,\n",
              "  .colab-df-quickchart-complete:disabled:hover {\n",
              "    background-color: var(--disabled-bg-color);\n",
              "    fill: var(--disabled-fill-color);\n",
              "    box-shadow: none;\n",
              "  }\n",
              "\n",
              "  .colab-df-spinner {\n",
              "    border: 2px solid var(--fill-color);\n",
              "    border-color: transparent;\n",
              "    border-bottom-color: var(--fill-color);\n",
              "    animation:\n",
              "      spin 1s steps(1) infinite;\n",
              "  }\n",
              "\n",
              "  @keyframes spin {\n",
              "    0% {\n",
              "      border-color: transparent;\n",
              "      border-bottom-color: var(--fill-color);\n",
              "      border-left-color: var(--fill-color);\n",
              "    }\n",
              "    20% {\n",
              "      border-color: transparent;\n",
              "      border-left-color: var(--fill-color);\n",
              "      border-top-color: var(--fill-color);\n",
              "    }\n",
              "    30% {\n",
              "      border-color: transparent;\n",
              "      border-left-color: var(--fill-color);\n",
              "      border-top-color: var(--fill-color);\n",
              "      border-right-color: var(--fill-color);\n",
              "    }\n",
              "    40% {\n",
              "      border-color: transparent;\n",
              "      border-right-color: var(--fill-color);\n",
              "      border-top-color: var(--fill-color);\n",
              "    }\n",
              "    60% {\n",
              "      border-color: transparent;\n",
              "      border-right-color: var(--fill-color);\n",
              "    }\n",
              "    80% {\n",
              "      border-color: transparent;\n",
              "      border-right-color: var(--fill-color);\n",
              "      border-bottom-color: var(--fill-color);\n",
              "    }\n",
              "    90% {\n",
              "      border-color: transparent;\n",
              "      border-bottom-color: var(--fill-color);\n",
              "    }\n",
              "  }\n",
              "</style>\n",
              "\n",
              "  <script>\n",
              "    async function quickchart(key) {\n",
              "      const quickchartButtonEl =\n",
              "        document.querySelector('#' + key + ' button');\n",
              "      quickchartButtonEl.disabled = true;  // To prevent multiple clicks.\n",
              "      quickchartButtonEl.classList.add('colab-df-spinner');\n",
              "      try {\n",
              "        const charts = await google.colab.kernel.invokeFunction(\n",
              "            'suggestCharts', [key], {});\n",
              "      } catch (error) {\n",
              "        console.error('Error during call to suggestCharts:', error);\n",
              "      }\n",
              "      quickchartButtonEl.classList.remove('colab-df-spinner');\n",
              "      quickchartButtonEl.classList.add('colab-df-quickchart-complete');\n",
              "    }\n",
              "    (() => {\n",
              "      let quickchartButtonEl =\n",
              "        document.querySelector('#df-9e5d7ec0-7f4c-4678-b58e-d59ecc9bdecb button');\n",
              "      quickchartButtonEl.style.display =\n",
              "        google.colab.kernel.accessAllowed ? 'block' : 'none';\n",
              "    })();\n",
              "  </script>\n",
              "</div>\n",
              "\n",
              "  <div id=\"id_7504bde1-4f2f-41ad-abb6-fb49da2fad6a\">\n",
              "    <style>\n",
              "      .colab-df-generate {\n",
              "        background-color: #E8F0FE;\n",
              "        border: none;\n",
              "        border-radius: 50%;\n",
              "        cursor: pointer;\n",
              "        display: none;\n",
              "        fill: #1967D2;\n",
              "        height: 32px;\n",
              "        padding: 0 0 0 0;\n",
              "        width: 32px;\n",
              "      }\n",
              "\n",
              "      .colab-df-generate:hover {\n",
              "        background-color: #E2EBFA;\n",
              "        box-shadow: 0px 1px 2px rgba(60, 64, 67, 0.3), 0px 1px 3px 1px rgba(60, 64, 67, 0.15);\n",
              "        fill: #174EA6;\n",
              "      }\n",
              "\n",
              "      [theme=dark] .colab-df-generate {\n",
              "        background-color: #3B4455;\n",
              "        fill: #D2E3FC;\n",
              "      }\n",
              "\n",
              "      [theme=dark] .colab-df-generate:hover {\n",
              "        background-color: #434B5C;\n",
              "        box-shadow: 0px 1px 3px 1px rgba(0, 0, 0, 0.15);\n",
              "        filter: drop-shadow(0px 1px 2px rgba(0, 0, 0, 0.3));\n",
              "        fill: #FFFFFF;\n",
              "      }\n",
              "    </style>\n",
              "    <button class=\"colab-df-generate\" onclick=\"generateWithVariable('df')\"\n",
              "            title=\"Generate code using this dataframe.\"\n",
              "            style=\"display:none;\">\n",
              "\n",
              "  <svg xmlns=\"http://www.w3.org/2000/svg\" height=\"24px\"viewBox=\"0 0 24 24\"\n",
              "       width=\"24px\">\n",
              "    <path d=\"M7,19H8.4L18.45,9,17,7.55,7,17.6ZM5,21V16.75L18.45,3.32a2,2,0,0,1,2.83,0l1.4,1.43a1.91,1.91,0,0,1,.58,1.4,1.91,1.91,0,0,1-.58,1.4L9.25,21ZM18.45,9,17,7.55Zm-12,3A5.31,5.31,0,0,0,4.9,8.1,5.31,5.31,0,0,0,1,6.5,5.31,5.31,0,0,0,4.9,4.9,5.31,5.31,0,0,0,6.5,1,5.31,5.31,0,0,0,8.1,4.9,5.31,5.31,0,0,0,12,6.5,5.46,5.46,0,0,0,6.5,12Z\"/>\n",
              "  </svg>\n",
              "    </button>\n",
              "    <script>\n",
              "      (() => {\n",
              "      const buttonEl =\n",
              "        document.querySelector('#id_7504bde1-4f2f-41ad-abb6-fb49da2fad6a button.colab-df-generate');\n",
              "      buttonEl.style.display =\n",
              "        google.colab.kernel.accessAllowed ? 'block' : 'none';\n",
              "\n",
              "      buttonEl.onclick = () => {\n",
              "        google.colab.notebook.generateWithVariable('df');\n",
              "      }\n",
              "      })();\n",
              "    </script>\n",
              "  </div>\n",
              "\n",
              "    </div>\n",
              "  </div>\n"
            ],
            "text/plain": [
              "         Day  Season     Fog    Rain      Class\n",
              "0    Weekday  Spring    None    None    On Time\n",
              "1    Weekday  Winter    None  Slight    On Time\n",
              "2    Weekday  Winter    None    None    On Time\n",
              "3    Holiday  Winter    High  Slight       Late\n",
              "4   Saturday  Summer  Normal    None    On Time\n",
              "5    Weekday  Autumn  Normal    None  Very Late\n",
              "6    Holiday  Summer    High  Slight    On Time\n",
              "7     Sunday  Summer  Normal    None    On Time\n",
              "8    Weekday  Winter    High   Heavy  Very Late\n",
              "9    Weekday  Summer    None  Slight    On Time\n",
              "10  Saturday  Spring    High   Heavy  Cancelled\n",
              "11   Weekday  Summer    High  Slight    On Time\n",
              "12   Weekday  Winter  Normal    None       Late\n",
              "13   Weekday  Summer    High    None    On Time\n",
              "14   Weekday  Winter  Normal   Heavy  Very Late\n",
              "15  Saturday  Autumn    High  Slight    On Time\n",
              "16   Weekday  Autumn    None   Heavy    On Time\n",
              "17   Holiday  Spring  Normal  Slight    On Time\n",
              "18   Weekday  Spring  Normal    None    On Time\n",
              "19   Weekday  Spring  Normal   Heavy    On Time"
            ]
          },
          "execution_count": 76,
          "metadata": {},
          "output_type": "execute_result"
        }
      ],
      "source": [
        "data = [\n",
        "    {\"Day\": \"Weekday\", \"Season\": \"Spring\", \"Fog\": \"None\", \"Rain\": \"None\", \"Class\": \"On Time\"},\n",
        "    {\"Day\": \"Weekday\", \"Season\": \"Winter\", \"Fog\": \"None\", \"Rain\": \"Slight\", \"Class\": \"On Time\"},\n",
        "    {\"Day\": \"Weekday\", \"Season\": \"Winter\", \"Fog\": \"None\", \"Rain\": \"None\", \"Class\": \"On Time\"},\n",
        "    {\"Day\": \"Holiday\", \"Season\": \"Winter\", \"Fog\": \"High\", \"Rain\": \"Slight\", \"Class\": \"Late\"},\n",
        "    {\"Day\": \"Saturday\", \"Season\": \"Summer\", \"Fog\": \"Normal\", \"Rain\": \"None\", \"Class\": \"On Time\"},\n",
        "    {\"Day\": \"Weekday\", \"Season\": \"Autumn\", \"Fog\": \"Normal\", \"Rain\": \"None\", \"Class\": \"Very Late\"},\n",
        "    {\"Day\": \"Holiday\", \"Season\": \"Summer\", \"Fog\": \"High\", \"Rain\": \"Slight\", \"Class\": \"On Time\"},\n",
        "    {\"Day\": \"Sunday\", \"Season\": \"Summer\", \"Fog\": \"Normal\", \"Rain\": \"None\", \"Class\": \"On Time\"},\n",
        "    {\"Day\": \"Weekday\", \"Season\": \"Winter\", \"Fog\": \"High\", \"Rain\": \"Heavy\", \"Class\": \"Very Late\"},\n",
        "    {\"Day\": \"Weekday\", \"Season\": \"Summer\", \"Fog\": \"None\", \"Rain\": \"Slight\", \"Class\": \"On Time\"},\n",
        "    {\"Day\": \"Saturday\", \"Season\": \"Spring\", \"Fog\": \"High\", \"Rain\": \"Heavy\", \"Class\": \"Cancelled\"},\n",
        "    {\"Day\": \"Weekday\", \"Season\": \"Summer\", \"Fog\": \"High\", \"Rain\": \"Slight\", \"Class\": \"On Time\"},\n",
        "    {\"Day\": \"Weekday\", \"Season\": \"Winter\", \"Fog\": \"Normal\", \"Rain\": \"None\", \"Class\": \"Late\"},\n",
        "    {\"Day\": \"Weekday\", \"Season\": \"Summer\", \"Fog\": \"High\", \"Rain\": \"None\", \"Class\": \"On Time\"},\n",
        "    {\"Day\": \"Weekday\", \"Season\": \"Winter\", \"Fog\": \"Normal\", \"Rain\": \"Heavy\", \"Class\": \"Very Late\"},\n",
        "    {\"Day\": \"Saturday\", \"Season\": \"Autumn\", \"Fog\": \"High\", \"Rain\": \"Slight\", \"Class\": \"On Time\"},\n",
        "    {\"Day\": \"Weekday\", \"Season\": \"Autumn\", \"Fog\": \"None\", \"Rain\": \"Heavy\", \"Class\": \"On Time\"},\n",
        "    {\"Day\": \"Holiday\", \"Season\": \"Spring\", \"Fog\": \"Normal\", \"Rain\": \"Slight\", \"Class\": \"On Time\"},\n",
        "    {\"Day\": \"Weekday\", \"Season\": \"Spring\", \"Fog\": \"Normal\", \"Rain\": \"None\", \"Class\": \"On Time\"},\n",
        "    {\"Day\": \"Weekday\", \"Season\": \"Spring\", \"Fog\": \"Normal\", \"Rain\": \"Heavy\", \"Class\": \"On Time\"}\n",
        "]\n",
        "\n",
        "df = pd.DataFrame(data)\n",
        "df"
      ]
    },
    {
      "cell_type": "code",
      "execution_count": 79,
      "metadata": {
        "colab": {
          "base_uri": "https://localhost:8080/"
        },
        "id": "P67HfcRAL5Dd",
        "outputId": "e3077911-29b2-4766-e376-9fe622f0a307"
      },
      "outputs": [
        {
          "name": "stdout",
          "output_type": "stream",
          "text": [
            "P(\"Class\" = \"On Time\") = 14/20\n",
            "P(\"Class\" = \"Late\") = 2/20\n",
            "P(\"Class\" = \"Very Late\") = 3/20\n",
            "P(\"Class\" = \"Cancelled\") = 1/20\n"
          ]
        }
      ],
      "source": [
        "N = len(df)\n",
        "on_time_count = len(df[df['Class'] == 'On Time'])\n",
        "late_count = len(df[df['Class'] == 'Late'])\n",
        "very_late_count = len(df[df['Class'] == 'Very Late'])\n",
        "cancelled_count = len(df[df['Class'] == 'Cancelled'])\n",
        "\n",
        "on_time_prob = on_time_count / N\n",
        "late_prob = late_count / N\n",
        "very_late_prob = very_late_count / N\n",
        "cancelled_prob = cancelled_count / N\n",
        "\n",
        "print(f'P(\"Class\" = \"On Time\") = {on_time_count}/{N}')\n",
        "print(f'P(\"Class\" = \"Late\") = {late_count}/{N}')\n",
        "print(f'P(\"Class\" = \"Very Late\") = {very_late_count}/{N}')\n",
        "print(f'P(\"Class\" = \"Cancelled\") = {cancelled_count}/{N}')"
      ]
    },
    {
      "cell_type": "code",
      "execution_count": 98,
      "metadata": {
        "colab": {
          "base_uri": "https://localhost:8080/"
        },
        "id": "9sBojVAHMp7U",
        "outputId": "9ab16e89-0c7b-4547-e2f5-0cec9da7a9b5"
      },
      "outputs": [
        {
          "name": "stdout",
          "output_type": "stream",
          "text": [
            "P1 = 0.6428571428571429\n",
            "P2 = 0.14285714285714285\n",
            "P3 = 0.2857142857142857\n",
            "P4 = 0.14285714285714285\n",
            "P_OnTime = 0.7\n",
            "P(\"Class\" = \"On Time\"|X) = 0.00262391\n"
          ]
        }
      ],
      "source": [
        "P1 = len(df.where((df['Day'] == 'Weekday') & (df['Class'] == 'On Time')).dropna()) / on_time_count\n",
        "P2 = len(df.where((df['Season']=='Winter') & (df['Class'] == 'On Time')).dropna()) / on_time_count\n",
        "P3 = len(df.where((df['Fog']=='High') & (df['Class'] == 'On Time')).dropna()) / on_time_count\n",
        "P4 = len(df.where((df['Rain']=='Heavy') & (df['Class'] == 'On Time')).dropna()) / on_time_count\n",
        "\n",
        "print(f'P1 = {P1}\\nP2 = {P2}\\nP3 = {P3}\\nP4 = {P4}\\nP_OnTime = {on_time_prob}')\n",
        "\n",
        "P_OnTime_X = P1*P2*P3*P4*on_time_prob\n",
        "print(f'P(\"Class\" = \"On Time\"|X) = {P_OnTime_X:.8f}')"
      ]
    },
    {
      "cell_type": "code",
      "execution_count": 100,
      "metadata": {
        "colab": {
          "base_uri": "https://localhost:8080/"
        },
        "id": "iHhxMIIcPtlM",
        "outputId": "8a41cf3e-e8eb-45bd-c922-16ba9de8994f"
      },
      "outputs": [
        {
          "name": "stdout",
          "output_type": "stream",
          "text": [
            "P1 = 0.5\n",
            "P2 = 1.0\n",
            "P3 = 0.5\n",
            "P4 = 0.0\n",
            "P_OnTime = 0.1\n",
            "P(\"Class\" = \"Late\"|X) = 0.00000000\n"
          ]
        }
      ],
      "source": [
        "P1 = len(df.where((df['Day'] == 'Weekday') & (df['Class'] == 'Late')).dropna()) / late_count\n",
        "P2 = len(df.where((df['Season']=='Winter') & (df['Class'] == 'Late')).dropna()) / late_count\n",
        "P3 = len(df.where((df['Fog']=='High') & (df['Class'] == 'Late')).dropna()) / late_count\n",
        "P4 = len(df.where((df['Rain']=='Heavy') & (df['Class'] == 'Late')).dropna()) / late_count\n",
        "\n",
        "print(f'P1 = {P1}\\nP2 = {P2}\\nP3 = {P3}\\nP4 = {P4}\\nP_OnTime = {late_prob}')\n",
        "\n",
        "P_Late_X = P1*P2*P3*P4*late_prob\n",
        "print(f'P(\"Class\" = \"Late\"|X) = {P_Late_X:.8f}')"
      ]
    },
    {
      "cell_type": "code",
      "execution_count": 101,
      "metadata": {
        "colab": {
          "base_uri": "https://localhost:8080/"
        },
        "id": "nH5jEvvIQBjW",
        "outputId": "8d083c31-55bd-4c83-ce11-5607ddd5af7a"
      },
      "outputs": [
        {
          "name": "stdout",
          "output_type": "stream",
          "text": [
            "P1 = 1.0\n",
            "P2 = 0.6666666666666666\n",
            "P3 = 0.3333333333333333\n",
            "P4 = 0.6666666666666666\n",
            "P_VeryLate = 0.15\n",
            "P(\"Class\" = \"VeryLate\"|X) = 0.02222222\n"
          ]
        }
      ],
      "source": [
        "P1 = len(df.where((df['Day'] == 'Weekday') & (df['Class'] == 'Very Late')).dropna()) / very_late_count\n",
        "P2 = len(df.where((df['Season']=='Winter') & (df['Class'] == 'Very Late')).dropna()) / very_late_count\n",
        "P3 = len(df.where((df['Fog']=='High') & (df['Class'] == 'Very Late')).dropna()) / very_late_count\n",
        "P4 = len(df.where((df['Rain']=='Heavy') & (df['Class'] == 'Very Late')).dropna()) / very_late_count\n",
        "\n",
        "print(f'P1 = {P1}\\nP2 = {P2}\\nP3 = {P3}\\nP4 = {P4}\\nP_VeryLate = {very_late_prob}')\n",
        "\n",
        "P_VeryLate_X = P1*P2*P3*P4*very_late_prob\n",
        "print(f'P(\"Class\" = \"VeryLate\"|X) = {P_VeryLate_X:.8f}')"
      ]
    },
    {
      "cell_type": "code",
      "execution_count": 102,
      "metadata": {
        "colab": {
          "base_uri": "https://localhost:8080/"
        },
        "id": "z9o6LCh0QPHR",
        "outputId": "bc9ea57c-e531-4752-9b65-141d1fb4b40d"
      },
      "outputs": [
        {
          "name": "stdout",
          "output_type": "stream",
          "text": [
            "P1 = 0.0\n",
            "P2 = 0.0\n",
            "P3 = 1.0\n",
            "P4 = 1.0\n",
            "P_Cancelled = 0.05\n",
            "P(\"Class\" = \"Cancelled\"|X) = 0.00000000\n"
          ]
        }
      ],
      "source": [
        "P1 = len(df.where((df['Day'] == 'Weekday') & (df['Class'] == 'Cancelled')).dropna()) / cancelled_count\n",
        "P2 = len(df.where((df['Season']=='Winter') & (df['Class'] == 'Cancelled')).dropna()) / cancelled_count\n",
        "P3 = len(df.where((df['Fog']=='High') & (df['Class'] == 'Cancelled')).dropna()) / cancelled_count\n",
        "P4 = len(df.where((df['Rain']=='Heavy') & (df['Class'] == 'Cancelled')).dropna()) / cancelled_count\n",
        "\n",
        "print(f'P1 = {P1}\\nP2 = {P2}\\nP3 = {P3}\\nP4 = {P4}\\nP_Cancelled = {cancelled_prob}')\n",
        "\n",
        "P_Cancelled_X = P1*P2*P3*P4*cancelled_prob\n",
        "print(f'P(\"Class\" = \"Cancelled\"|X) = {P_Cancelled_X:.8f}')"
      ]
    },
    {
      "cell_type": "code",
      "execution_count": 103,
      "metadata": {
        "colab": {
          "base_uri": "https://localhost:8080/"
        },
        "id": "PKfDUO6EQ-rl",
        "outputId": "e4bbbe71-d6fe-4e13-ac12-b602529dc85f"
      },
      "outputs": [
        {
          "name": "stdout",
          "output_type": "stream",
          "text": [
            "['On Time', 'Late', 'Very Late', 'Cancelled']\n",
            "[0.0026239067055393583, 0.0, 0.02222222222222222, 0.0]\n",
            "Class = Very Late\n"
          ]
        }
      ],
      "source": [
        "classes = ['On Time', 'Late', 'Very Late', 'Cancelled']\n",
        "probs = [P_OnTime_X, P_Late_X, P_VeryLate_X, P_Cancelled_X]\n",
        "\n",
        "print(classes)\n",
        "print(probs)\n",
        "print(f\"Class = {classes[probs.index(max(probs))]}\")"
      ]
    },
    {
      "cell_type": "code",
      "execution_count": 107,
      "metadata": {
        "colab": {
          "base_uri": "https://localhost:8080/",
          "height": 425
        },
        "id": "iW9tFoZaS1x4",
        "outputId": "82f356c2-7580-482d-f698-cef4902e41e1"
      },
      "outputs": [
        {
          "data": {
            "application/vnd.google.colaboratory.intrinsic+json": {
              "summary": "{\n  \"name\": \"df\",\n  \"rows\": 12,\n  \"fields\": [\n    {\n      \"column\": \"Length\",\n      \"properties\": {\n        \"dtype\": \"number\",\n        \"std\": 1.2018924471621637,\n        \"min\": 1.0,\n        \"max\": 4.2,\n        \"num_unique_values\": 12,\n        \"samples\": [\n          4.2,\n          3.9,\n          1.4\n        ],\n        \"semantic_type\": \"\",\n        \"description\": \"\"\n      }\n    },\n    {\n      \"column\": \"Class\",\n      \"properties\": {\n        \"dtype\": \"number\",\n        \"std\": 0,\n        \"min\": 0,\n        \"max\": 1,\n        \"num_unique_values\": 2,\n        \"samples\": [\n          1,\n          0\n        ],\n        \"semantic_type\": \"\",\n        \"description\": \"\"\n      }\n    }\n  ]\n}",
              "type": "dataframe",
              "variable_name": "df"
            },
            "text/html": [
              "\n",
              "  <div id=\"df-8294632a-d4ac-43a6-a677-cf5cf2e1ed69\" class=\"colab-df-container\">\n",
              "    <div>\n",
              "<style scoped>\n",
              "    .dataframe tbody tr th:only-of-type {\n",
              "        vertical-align: middle;\n",
              "    }\n",
              "\n",
              "    .dataframe tbody tr th {\n",
              "        vertical-align: top;\n",
              "    }\n",
              "\n",
              "    .dataframe thead th {\n",
              "        text-align: right;\n",
              "    }\n",
              "</style>\n",
              "<table border=\"1\" class=\"dataframe\">\n",
              "  <thead>\n",
              "    <tr style=\"text-align: right;\">\n",
              "      <th></th>\n",
              "      <th>Length</th>\n",
              "      <th>Class</th>\n",
              "    </tr>\n",
              "  </thead>\n",
              "  <tbody>\n",
              "    <tr>\n",
              "      <th>0</th>\n",
              "      <td>1.4</td>\n",
              "      <td>0</td>\n",
              "    </tr>\n",
              "    <tr>\n",
              "      <th>1</th>\n",
              "      <td>1.0</td>\n",
              "      <td>0</td>\n",
              "    </tr>\n",
              "    <tr>\n",
              "      <th>2</th>\n",
              "      <td>1.3</td>\n",
              "      <td>0</td>\n",
              "    </tr>\n",
              "    <tr>\n",
              "      <th>3</th>\n",
              "      <td>1.9</td>\n",
              "      <td>0</td>\n",
              "    </tr>\n",
              "    <tr>\n",
              "      <th>4</th>\n",
              "      <td>2.0</td>\n",
              "      <td>0</td>\n",
              "    </tr>\n",
              "    <tr>\n",
              "      <th>5</th>\n",
              "      <td>1.8</td>\n",
              "      <td>0</td>\n",
              "    </tr>\n",
              "    <tr>\n",
              "      <th>6</th>\n",
              "      <td>3.0</td>\n",
              "      <td>1</td>\n",
              "    </tr>\n",
              "    <tr>\n",
              "      <th>7</th>\n",
              "      <td>3.8</td>\n",
              "      <td>1</td>\n",
              "    </tr>\n",
              "    <tr>\n",
              "      <th>8</th>\n",
              "      <td>4.1</td>\n",
              "      <td>1</td>\n",
              "    </tr>\n",
              "    <tr>\n",
              "      <th>9</th>\n",
              "      <td>3.9</td>\n",
              "      <td>1</td>\n",
              "    </tr>\n",
              "    <tr>\n",
              "      <th>10</th>\n",
              "      <td>4.2</td>\n",
              "      <td>1</td>\n",
              "    </tr>\n",
              "    <tr>\n",
              "      <th>11</th>\n",
              "      <td>3.4</td>\n",
              "      <td>1</td>\n",
              "    </tr>\n",
              "  </tbody>\n",
              "</table>\n",
              "</div>\n",
              "    <div class=\"colab-df-buttons\">\n",
              "\n",
              "  <div class=\"colab-df-container\">\n",
              "    <button class=\"colab-df-convert\" onclick=\"convertToInteractive('df-8294632a-d4ac-43a6-a677-cf5cf2e1ed69')\"\n",
              "            title=\"Convert this dataframe to an interactive table.\"\n",
              "            style=\"display:none;\">\n",
              "\n",
              "  <svg xmlns=\"http://www.w3.org/2000/svg\" height=\"24px\" viewBox=\"0 -960 960 960\">\n",
              "    <path d=\"M120-120v-720h720v720H120Zm60-500h600v-160H180v160Zm220 220h160v-160H400v160Zm0 220h160v-160H400v160ZM180-400h160v-160H180v160Zm440 0h160v-160H620v160ZM180-180h160v-160H180v160Zm440 0h160v-160H620v160Z\"/>\n",
              "  </svg>\n",
              "    </button>\n",
              "\n",
              "  <style>\n",
              "    .colab-df-container {\n",
              "      display:flex;\n",
              "      gap: 12px;\n",
              "    }\n",
              "\n",
              "    .colab-df-convert {\n",
              "      background-color: #E8F0FE;\n",
              "      border: none;\n",
              "      border-radius: 50%;\n",
              "      cursor: pointer;\n",
              "      display: none;\n",
              "      fill: #1967D2;\n",
              "      height: 32px;\n",
              "      padding: 0 0 0 0;\n",
              "      width: 32px;\n",
              "    }\n",
              "\n",
              "    .colab-df-convert:hover {\n",
              "      background-color: #E2EBFA;\n",
              "      box-shadow: 0px 1px 2px rgba(60, 64, 67, 0.3), 0px 1px 3px 1px rgba(60, 64, 67, 0.15);\n",
              "      fill: #174EA6;\n",
              "    }\n",
              "\n",
              "    .colab-df-buttons div {\n",
              "      margin-bottom: 4px;\n",
              "    }\n",
              "\n",
              "    [theme=dark] .colab-df-convert {\n",
              "      background-color: #3B4455;\n",
              "      fill: #D2E3FC;\n",
              "    }\n",
              "\n",
              "    [theme=dark] .colab-df-convert:hover {\n",
              "      background-color: #434B5C;\n",
              "      box-shadow: 0px 1px 3px 1px rgba(0, 0, 0, 0.15);\n",
              "      filter: drop-shadow(0px 1px 2px rgba(0, 0, 0, 0.3));\n",
              "      fill: #FFFFFF;\n",
              "    }\n",
              "  </style>\n",
              "\n",
              "    <script>\n",
              "      const buttonEl =\n",
              "        document.querySelector('#df-8294632a-d4ac-43a6-a677-cf5cf2e1ed69 button.colab-df-convert');\n",
              "      buttonEl.style.display =\n",
              "        google.colab.kernel.accessAllowed ? 'block' : 'none';\n",
              "\n",
              "      async function convertToInteractive(key) {\n",
              "        const element = document.querySelector('#df-8294632a-d4ac-43a6-a677-cf5cf2e1ed69');\n",
              "        const dataTable =\n",
              "          await google.colab.kernel.invokeFunction('convertToInteractive',\n",
              "                                                    [key], {});\n",
              "        if (!dataTable) return;\n",
              "\n",
              "        const docLinkHtml = 'Like what you see? Visit the ' +\n",
              "          '<a target=\"_blank\" href=https://colab.research.google.com/notebooks/data_table.ipynb>data table notebook</a>'\n",
              "          + ' to learn more about interactive tables.';\n",
              "        element.innerHTML = '';\n",
              "        dataTable['output_type'] = 'display_data';\n",
              "        await google.colab.output.renderOutput(dataTable, element);\n",
              "        const docLink = document.createElement('div');\n",
              "        docLink.innerHTML = docLinkHtml;\n",
              "        element.appendChild(docLink);\n",
              "      }\n",
              "    </script>\n",
              "  </div>\n",
              "\n",
              "\n",
              "<div id=\"df-f84f10a8-f932-42ea-8eae-88a559e89975\">\n",
              "  <button class=\"colab-df-quickchart\" onclick=\"quickchart('df-f84f10a8-f932-42ea-8eae-88a559e89975')\"\n",
              "            title=\"Suggest charts\"\n",
              "            style=\"display:none;\">\n",
              "\n",
              "<svg xmlns=\"http://www.w3.org/2000/svg\" height=\"24px\"viewBox=\"0 0 24 24\"\n",
              "     width=\"24px\">\n",
              "    <g>\n",
              "        <path d=\"M19 3H5c-1.1 0-2 .9-2 2v14c0 1.1.9 2 2 2h14c1.1 0 2-.9 2-2V5c0-1.1-.9-2-2-2zM9 17H7v-7h2v7zm4 0h-2V7h2v10zm4 0h-2v-4h2v4z\"/>\n",
              "    </g>\n",
              "</svg>\n",
              "  </button>\n",
              "\n",
              "<style>\n",
              "  .colab-df-quickchart {\n",
              "      --bg-color: #E8F0FE;\n",
              "      --fill-color: #1967D2;\n",
              "      --hover-bg-color: #E2EBFA;\n",
              "      --hover-fill-color: #174EA6;\n",
              "      --disabled-fill-color: #AAA;\n",
              "      --disabled-bg-color: #DDD;\n",
              "  }\n",
              "\n",
              "  [theme=dark] .colab-df-quickchart {\n",
              "      --bg-color: #3B4455;\n",
              "      --fill-color: #D2E3FC;\n",
              "      --hover-bg-color: #434B5C;\n",
              "      --hover-fill-color: #FFFFFF;\n",
              "      --disabled-bg-color: #3B4455;\n",
              "      --disabled-fill-color: #666;\n",
              "  }\n",
              "\n",
              "  .colab-df-quickchart {\n",
              "    background-color: var(--bg-color);\n",
              "    border: none;\n",
              "    border-radius: 50%;\n",
              "    cursor: pointer;\n",
              "    display: none;\n",
              "    fill: var(--fill-color);\n",
              "    height: 32px;\n",
              "    padding: 0;\n",
              "    width: 32px;\n",
              "  }\n",
              "\n",
              "  .colab-df-quickchart:hover {\n",
              "    background-color: var(--hover-bg-color);\n",
              "    box-shadow: 0 1px 2px rgba(60, 64, 67, 0.3), 0 1px 3px 1px rgba(60, 64, 67, 0.15);\n",
              "    fill: var(--button-hover-fill-color);\n",
              "  }\n",
              "\n",
              "  .colab-df-quickchart-complete:disabled,\n",
              "  .colab-df-quickchart-complete:disabled:hover {\n",
              "    background-color: var(--disabled-bg-color);\n",
              "    fill: var(--disabled-fill-color);\n",
              "    box-shadow: none;\n",
              "  }\n",
              "\n",
              "  .colab-df-spinner {\n",
              "    border: 2px solid var(--fill-color);\n",
              "    border-color: transparent;\n",
              "    border-bottom-color: var(--fill-color);\n",
              "    animation:\n",
              "      spin 1s steps(1) infinite;\n",
              "  }\n",
              "\n",
              "  @keyframes spin {\n",
              "    0% {\n",
              "      border-color: transparent;\n",
              "      border-bottom-color: var(--fill-color);\n",
              "      border-left-color: var(--fill-color);\n",
              "    }\n",
              "    20% {\n",
              "      border-color: transparent;\n",
              "      border-left-color: var(--fill-color);\n",
              "      border-top-color: var(--fill-color);\n",
              "    }\n",
              "    30% {\n",
              "      border-color: transparent;\n",
              "      border-left-color: var(--fill-color);\n",
              "      border-top-color: var(--fill-color);\n",
              "      border-right-color: var(--fill-color);\n",
              "    }\n",
              "    40% {\n",
              "      border-color: transparent;\n",
              "      border-right-color: var(--fill-color);\n",
              "      border-top-color: var(--fill-color);\n",
              "    }\n",
              "    60% {\n",
              "      border-color: transparent;\n",
              "      border-right-color: var(--fill-color);\n",
              "    }\n",
              "    80% {\n",
              "      border-color: transparent;\n",
              "      border-right-color: var(--fill-color);\n",
              "      border-bottom-color: var(--fill-color);\n",
              "    }\n",
              "    90% {\n",
              "      border-color: transparent;\n",
              "      border-bottom-color: var(--fill-color);\n",
              "    }\n",
              "  }\n",
              "</style>\n",
              "\n",
              "  <script>\n",
              "    async function quickchart(key) {\n",
              "      const quickchartButtonEl =\n",
              "        document.querySelector('#' + key + ' button');\n",
              "      quickchartButtonEl.disabled = true;  // To prevent multiple clicks.\n",
              "      quickchartButtonEl.classList.add('colab-df-spinner');\n",
              "      try {\n",
              "        const charts = await google.colab.kernel.invokeFunction(\n",
              "            'suggestCharts', [key], {});\n",
              "      } catch (error) {\n",
              "        console.error('Error during call to suggestCharts:', error);\n",
              "      }\n",
              "      quickchartButtonEl.classList.remove('colab-df-spinner');\n",
              "      quickchartButtonEl.classList.add('colab-df-quickchart-complete');\n",
              "    }\n",
              "    (() => {\n",
              "      let quickchartButtonEl =\n",
              "        document.querySelector('#df-f84f10a8-f932-42ea-8eae-88a559e89975 button');\n",
              "      quickchartButtonEl.style.display =\n",
              "        google.colab.kernel.accessAllowed ? 'block' : 'none';\n",
              "    })();\n",
              "  </script>\n",
              "</div>\n",
              "\n",
              "  <div id=\"id_625c45d4-837a-42c5-9610-4695fc4b5b07\">\n",
              "    <style>\n",
              "      .colab-df-generate {\n",
              "        background-color: #E8F0FE;\n",
              "        border: none;\n",
              "        border-radius: 50%;\n",
              "        cursor: pointer;\n",
              "        display: none;\n",
              "        fill: #1967D2;\n",
              "        height: 32px;\n",
              "        padding: 0 0 0 0;\n",
              "        width: 32px;\n",
              "      }\n",
              "\n",
              "      .colab-df-generate:hover {\n",
              "        background-color: #E2EBFA;\n",
              "        box-shadow: 0px 1px 2px rgba(60, 64, 67, 0.3), 0px 1px 3px 1px rgba(60, 64, 67, 0.15);\n",
              "        fill: #174EA6;\n",
              "      }\n",
              "\n",
              "      [theme=dark] .colab-df-generate {\n",
              "        background-color: #3B4455;\n",
              "        fill: #D2E3FC;\n",
              "      }\n",
              "\n",
              "      [theme=dark] .colab-df-generate:hover {\n",
              "        background-color: #434B5C;\n",
              "        box-shadow: 0px 1px 3px 1px rgba(0, 0, 0, 0.15);\n",
              "        filter: drop-shadow(0px 1px 2px rgba(0, 0, 0, 0.3));\n",
              "        fill: #FFFFFF;\n",
              "      }\n",
              "    </style>\n",
              "    <button class=\"colab-df-generate\" onclick=\"generateWithVariable('df')\"\n",
              "            title=\"Generate code using this dataframe.\"\n",
              "            style=\"display:none;\">\n",
              "\n",
              "  <svg xmlns=\"http://www.w3.org/2000/svg\" height=\"24px\"viewBox=\"0 0 24 24\"\n",
              "       width=\"24px\">\n",
              "    <path d=\"M7,19H8.4L18.45,9,17,7.55,7,17.6ZM5,21V16.75L18.45,3.32a2,2,0,0,1,2.83,0l1.4,1.43a1.91,1.91,0,0,1,.58,1.4,1.91,1.91,0,0,1-.58,1.4L9.25,21ZM18.45,9,17,7.55Zm-12,3A5.31,5.31,0,0,0,4.9,8.1,5.31,5.31,0,0,0,1,6.5,5.31,5.31,0,0,0,4.9,4.9,5.31,5.31,0,0,0,6.5,1,5.31,5.31,0,0,0,8.1,4.9,5.31,5.31,0,0,0,12,6.5,5.46,5.46,0,0,0,6.5,12Z\"/>\n",
              "  </svg>\n",
              "    </button>\n",
              "    <script>\n",
              "      (() => {\n",
              "      const buttonEl =\n",
              "        document.querySelector('#id_625c45d4-837a-42c5-9610-4695fc4b5b07 button.colab-df-generate');\n",
              "      buttonEl.style.display =\n",
              "        google.colab.kernel.accessAllowed ? 'block' : 'none';\n",
              "\n",
              "      buttonEl.onclick = () => {\n",
              "        google.colab.notebook.generateWithVariable('df');\n",
              "      }\n",
              "      })();\n",
              "    </script>\n",
              "  </div>\n",
              "\n",
              "    </div>\n",
              "  </div>\n"
            ],
            "text/plain": [
              "    Length  Class\n",
              "0      1.4      0\n",
              "1      1.0      0\n",
              "2      1.3      0\n",
              "3      1.9      0\n",
              "4      2.0      0\n",
              "5      1.8      0\n",
              "6      3.0      1\n",
              "7      3.8      1\n",
              "8      4.1      1\n",
              "9      3.9      1\n",
              "10     4.2      1\n",
              "11     3.4      1"
            ]
          },
          "execution_count": 107,
          "metadata": {},
          "output_type": "execute_result"
        }
      ],
      "source": [
        "lengths = [1.4, 1.0, 1.3, 1.9, 2.0, 1.8, 3.0, 3.8, 4.1, 3.9, 4.2, 3.4]\n",
        "classes = [0, 0, 0, 0, 0, 0, 1, 1, 1, 1, 1, 1]\n",
        "\n",
        "df = pd.DataFrame({\n",
        "    'Length': lengths,\n",
        "    'Class': classes\n",
        "})\n",
        "\n",
        "df"
      ]
    },
    {
      "cell_type": "code",
      "execution_count": 144,
      "metadata": {
        "colab": {
          "base_uri": "https://localhost:8080/"
        },
        "id": "8D_-iW4US0A7",
        "outputId": "b8d72ada-97d6-44b7-e7d5-a40562b556cc"
      },
      "outputs": [
        {
          "name": "stdout",
          "output_type": "stream",
          "text": [
            "mean0 = 1.5666666666666667\n",
            "var0 = 0.1288888888888889\n"
          ]
        }
      ],
      "source": [
        "length_class0 = df['Length'].where((df['Class'] == 0)).dropna()\n",
        "\n",
        "mean0 = length_class0.mean()\n",
        "print(f'mean0 = {mean0}')\n",
        "\n",
        "var0 = 0\n",
        "for i in length_class0.tolist():\n",
        "  var0 = var0 + (i - mean0)**2\n",
        "var0 = var0/len(length_class0)\n",
        "print(f'var0 = {var0}')"
      ]
    },
    {
      "cell_type": "code",
      "execution_count": 145,
      "metadata": {
        "colab": {
          "base_uri": "https://localhost:8080/"
        },
        "id": "FtcPECpvVCg4",
        "outputId": "c6bfc1fa-0224-432e-95e1-da52ca61e4c0"
      },
      "outputs": [
        {
          "name": "stdout",
          "output_type": "stream",
          "text": [
            "mean1 = 3.733333333333333\n",
            "var1 = 0.1722222222222222\n"
          ]
        }
      ],
      "source": [
        "length_class1 = df['Length'].where((df['Class'] == 1)).dropna()\n",
        "\n",
        "mean1 = length_class1.mean()\n",
        "print(f'mean1 = {mean1}')\n",
        "\n",
        "var1 = 0\n",
        "for i in length_class1.tolist():\n",
        "  var1 = var1 + (i - mean1)**2\n",
        "var1 = var1/len(length_class1)\n",
        "print(f'var1 = {var1}')"
      ]
    },
    {
      "cell_type": "code",
      "execution_count": 139,
      "metadata": {
        "id": "UvOH1bbAXJvq"
      },
      "outputs": [],
      "source": [
        "import numpy as np\n",
        "from sklearn.naive_bayes import GaussianNB"
      ]
    },
    {
      "cell_type": "code",
      "execution_count": 161,
      "metadata": {
        "colab": {
          "base_uri": "https://localhost:8080/"
        },
        "id": "U03ZeRHGXHTE",
        "outputId": "221f087e-4825-4c74-cc3a-483ba74362f3"
      },
      "outputs": [
        {
          "name": "stdout",
          "output_type": "stream",
          "text": [
            "P(Class=0 | X) = 1.2269982016926519e-06\n",
            "P(Class=1 | X) = 0.3484337884730215\n"
          ]
        }
      ],
      "source": [
        "X = 3.4\n",
        "\n",
        "def GaussianNaiveBayes(X, mean, var):\n",
        "  return (1/(np.sqrt(2*np.pi*var)))*np.exp(-(X-mean)**2/(2*var))\n",
        "\n",
        "likelihood_0 = GaussianNaiveBayes(X, round(mean0, 3), round(var0, 3))\n",
        "likelihood_1 = GaussianNaiveBayes(X, round(mean1, 3), round(var1, 3))\n",
        "\n",
        "P0 = 0.5\n",
        "P1 = 0.5\n",
        "\n",
        "posterior_0 = likelihood_0 * P0\n",
        "posterior_1 = likelihood_1 * P1\n",
        "\n",
        "print(f\"P(Class=0 | X) = {posterior_0}\")\n",
        "print(f\"P(Class=1 | X) = {posterior_1}\")"
      ]
    },
    {
      "cell_type": "code",
      "execution_count": 165,
      "metadata": {
        "colab": {
          "base_uri": "https://localhost:8080/"
        },
        "id": "urLZZR3bahI7",
        "outputId": "ed0c8b55-11cc-48cd-e098-d0513dfa4cd3"
      },
      "outputs": [
        {
          "name": "stdout",
          "output_type": "stream",
          "text": [
            "[['Sunny' 'Hot' 'High' 'Weak' 'no']\n",
            " ['Sunny' 'Hot' 'High' 'Strong' 'no']\n",
            " ['Overcast' 'Hot' 'High' 'Weak' 'yes']\n",
            " ['Rain' 'Mild' 'High' 'Weak' 'yes']\n",
            " ['Rain' 'Cool' 'Normal' 'Weak' 'yes']\n",
            " ['Rain' 'Cool' 'Normal' 'Strong' 'no']\n",
            " ['Overcast' 'Cool' 'Normal' 'Strong' 'yes']\n",
            " ['Overcast' 'Mild' 'High' 'Weak' 'no']\n",
            " ['Sunny' 'Cool' 'Normal' 'Weak' 'yes']\n",
            " ['Rain' 'Mild' 'Normal' 'Weak' 'yes']]\n"
          ]
        }
      ],
      "source": [
        "import numpy as np\n",
        "\n",
        "def create_train_data():\n",
        "  data = [[\"Sunny\", \"Hot\", \"High\", \"Weak\", \"no\"],\n",
        "      [\"Sunny\", \"Hot\", \"High\", \"Strong\", \"no\"],\n",
        "      [\"Overcast\", \"Hot\", \"High\", \"Weak\", \"yes\"],\n",
        "      [\"Rain\", \"Mild\", \"High\", \"Weak\", \"yes\"],\n",
        "      [\"Rain\", \"Cool\", \"Normal\", \"Weak\", \"yes\"],\n",
        "      [\"Rain\", \"Cool\", \"Normal\", \"Strong\", \"no\"],\n",
        "      [\"Overcast\", \"Cool\", \"Normal\", \"Strong\", \"yes\"],\n",
        "      [\"Overcast\", \"Mild\", \"High\", \"Weak\", \"no\"],\n",
        "      [\"Sunny\", \"Cool\", \"Normal\", \"Weak\", \"yes\"],\n",
        "      [\"Rain\", \"Mild\", \"Normal\", \"Weak\", \"yes\"]]\n",
        "  return np.array(data)\n",
        "\n",
        "train_data = create_train_data()\n",
        "print(train_data)"
      ]
    },
    {
      "cell_type": "code",
      "execution_count": 168,
      "metadata": {
        "colab": {
          "base_uri": "https://localhost:8080/"
        },
        "id": "FGdR3eujbW6a",
        "outputId": "7182ccb0-0e1e-41ad-f710-3aeca6e87f89"
      },
      "outputs": [
        {
          "name": "stdout",
          "output_type": "stream",
          "text": [
            "P(play tennis = No) 0.4\n",
            "P(play tennis = Yes) 0.6\n"
          ]
        }
      ],
      "source": [
        "def compute_prior_probablity(train_data):\n",
        "  y_unique = ['no', 'yes']\n",
        "  prior_probability = np.zeros(len(y_unique))\n",
        "\n",
        "  for i in range(len(y_unique)):\n",
        "    prior_probability[i] = np.sum(train_data[:, -1] == y_unique[i]) / len(train_data)\n",
        "\n",
        "  return prior_probability\n",
        "\n",
        "prior_probablity = compute_prior_probablity(train_data)\n",
        "print (\"P(play tennis = No)\", prior_probablity[0])\n",
        "print (\"P(play tennis = Yes)\", prior_probablity[1])"
      ]
    },
    {
      "cell_type": "code",
      "execution_count": 198,
      "metadata": {
        "colab": {
          "base_uri": "https://localhost:8080/"
        },
        "id": "HYbFJon6cNvr",
        "outputId": "1478668f-8ab2-4159-8c4b-4032bd81ec7e"
      },
      "outputs": [
        {
          "data": {
            "text/plain": [
              "([array([[0.25      , 0.25      , 0.5       ],\n",
              "         [0.33333333, 0.5       , 0.16666667]]),\n",
              "  array([[0.25      , 0.5       , 0.25      ],\n",
              "         [0.5       , 0.16666667, 0.33333333]]),\n",
              "  array([[0.75      , 0.25      ],\n",
              "         [0.33333333, 0.66666667]]),\n",
              "  array([[0.5       , 0.5       ],\n",
              "         [0.16666667, 0.83333333]])],\n",
              " [array(['Overcast', 'Rain', 'Sunny'], dtype='<U8'),\n",
              "  array(['Cool', 'Hot', 'Mild'], dtype='<U8'),\n",
              "  array(['High', 'Normal'], dtype='<U8'),\n",
              "  array(['Strong', 'Weak'], dtype='<U8')])"
            ]
          },
          "execution_count": 198,
          "metadata": {},
          "output_type": "execute_result"
        }
      ],
      "source": [
        "def compute_conditional_probability(train_data):\n",
        "  y_unique = ['no', 'yes']\n",
        "  conditional_probability = []\n",
        "  list_x_name = []\n",
        "\n",
        "  for i in range(0, train_data.shape[1] - 1):\n",
        "    x_unique = np.unique(train_data[:, i])\n",
        "    list_x_name.append(x_unique)\n",
        "    x_conditional_probability = np.zeros((len(y_unique), len(x_unique)))\n",
        "    for j in range(len(y_unique)):\n",
        "      for k in range(len(x_unique)):\n",
        "        x_conditional_probability[j, k] = np.sum((train_data[:, i] == x_unique[k]) & (train_data[:, -1] == y_unique[j]))\n",
        "        x_conditional_probability[j, k] /= np.sum(train_data[:, -1] == y_unique[j])\n",
        "\n",
        "    conditional_probability.append(x_conditional_probability)\n",
        "  return conditional_probability, list_x_name\n",
        "\n",
        "compute_conditional_probability(train_data)"
      ]
    },
    {
      "cell_type": "code",
      "execution_count": 199,
      "metadata": {
        "colab": {
          "base_uri": "https://localhost:8080/"
        },
        "id": "mPBUi98redF4",
        "outputId": "0781c581-adee-4727-fea7-01f3955a9775"
      },
      "outputs": [
        {
          "name": "stdout",
          "output_type": "stream",
          "text": [
            "x1 =  ['Overcast' 'Rain' 'Sunny']\n",
            "x2 =  ['Cool' 'Hot' 'Mild']\n",
            "x3 =  ['High' 'Normal']\n",
            "x4 =  ['Strong' 'Weak']\n"
          ]
        }
      ],
      "source": [
        "train_data = create_train_data()\n",
        "_, list_x_name = compute_conditional_probability(train_data)\n",
        "\n",
        "print(\"x1 = \", list_x_name[0])\n",
        "print(\"x2 = \", list_x_name[1])\n",
        "print(\"x3 = \", list_x_name[2])\n",
        "print(\"x4 = \", list_x_name[3])"
      ]
    },
    {
      "cell_type": "code",
      "execution_count": 200,
      "metadata": {
        "id": "x5DmLvu4ewuN"
      },
      "outputs": [],
      "source": [
        "# This function is used to return the index of the feature name\n",
        "def get_index_from_value(feature_name, list_features):\n",
        "  for i in range(len(list_features)):\n",
        "    if list_features[i] == feature_name:\n",
        "      return i\n",
        "  # return np.where(list_features == feature_name)[0][0]"
      ]
    },
    {
      "cell_type": "code",
      "execution_count": 201,
      "metadata": {
        "colab": {
          "base_uri": "https://localhost:8080/"
        },
        "id": "QmX5aIxIerRC",
        "outputId": "ce316490-46ee-446d-ca1e-fe70d916f46b"
      },
      "outputs": [
        {
          "name": "stdout",
          "output_type": "stream",
          "text": [
            "0 1 2\n"
          ]
        }
      ],
      "source": [
        "train_data = create_train_data()\n",
        "\n",
        "_, list_x_name = compute_conditional_probability(train_data)\n",
        "outlook = list_x_name[0]\n",
        "\n",
        "i1 = get_index_from_value(\"Overcast\", outlook)\n",
        "i2 = get_index_from_value(\"Rain\", outlook)\n",
        "i3 = get_index_from_value(\"Sunny\", outlook)\n",
        "print(i1, i2, i3)"
      ]
    },
    {
      "cell_type": "code",
      "execution_count": 203,
      "metadata": {
        "colab": {
          "base_uri": "https://localhost:8080/"
        },
        "id": "BxEfY7bHfwxG",
        "outputId": "500b0b01-bff5-4a58-a015-6c84e8c8cb0b"
      },
      "outputs": [
        {
          "name": "stdout",
          "output_type": "stream",
          "text": [
            "P('Outlook'='Sunny' | 'Play Tennis'='Yes') =  0.17\n"
          ]
        }
      ],
      "source": [
        "train_data = create_train_data()\n",
        "conditional_probability, list_x_name = compute_conditional_probability(train_data)\n",
        "\n",
        "# Compute P(\"Outlook\"=\"Sunny\" | Play Tennis\"=\"Yes\")\n",
        "x1 = get_index_from_value(\"Sunny\", list_x_name[0])\n",
        "\n",
        "print(\"P('Outlook'='Sunny' | 'Play Tennis'='Yes') = \", np.round(conditional_probability[0][1, x1], 2))"
      ]
    },
    {
      "cell_type": "code",
      "execution_count": 213,
      "metadata": {
        "colab": {
          "base_uri": "https://localhost:8080/"
        },
        "id": "B92iMXFFh_By",
        "outputId": "590fdb26-343a-47a3-9246-af64b683e132"
      },
      "outputs": [
        {
          "name": "stdout",
          "output_type": "stream",
          "text": [
            "P('Outlook'='Sunny' | 'Play Tennis'='No') =  0.5\n"
          ]
        }
      ],
      "source": [
        "train_data = create_train_data()\n",
        "conditional_probability, list_x_name = compute_conditional_probability(train_data)\n",
        "\n",
        "# Compute P(\"Outlook\"=\"Sunny\" | Play Tennis\"=\"No\")\n",
        "x1 = get_index_from_value(\"Sunny\", list_x_name[0])\n",
        "\n",
        "print (\"P('Outlook'='Sunny' | 'Play Tennis'='No') = \", np.round(conditional_probability[0][0, x1], 2))"
      ]
    },
    {
      "cell_type": "code",
      "execution_count": 217,
      "metadata": {
        "id": "wKFKnrq_jzcT"
      },
      "outputs": [],
      "source": [
        "# Train Naive Bayes Model\n",
        "def train_naive_bayes(train_data):\n",
        "  # Step 1: Calculate Prior Probability\n",
        "  y_unique = ['no', 'yes']\n",
        "  prior_probability = compute_prior_probablity(train_data)\n",
        "\n",
        "  # Step 2: Calculate Conditional Probability\n",
        "  conditional_probability, list_x_name = compute_conditional_probability(train_data)\n",
        "\n",
        "  return prior_probability, conditional_probability, list_x_name\n",
        "\n",
        "# Prediction\n",
        "def prediction_play_tennis(X, list_x_name, prior_probability, conditional_probability):\n",
        "  x1 = get_index_from_value(X[0], list_x_name[0])\n",
        "  x2 = get_index_from_value(X[1], list_x_name[1])\n",
        "  x3 = get_index_from_value(X[2], list_x_name[2])\n",
        "  x4 = get_index_from_value(X[3], list_x_name[3])\n",
        "\n",
        "  p0 = 0\n",
        "  p1 = 0\n",
        "\n",
        "  p0 = prior_probability[0] * conditional_probability[0][0, x1] * conditional_probability[1][0, x2] * conditional_probability[2][0, x3] * conditional_probability[3][0, x4]\n",
        "  p1 = prior_probability[1] * conditional_probability[0][1, x1] * conditional_probability[1][1, x2] * conditional_probability[2][1, x3] * conditional_probability[3][1, x4]\n",
        "\n",
        "  if p0 > p1:\n",
        "    y_pred = 0\n",
        "  else:\n",
        "    y_pred = 1\n",
        "\n",
        "  return y_pred"
      ]
    },
    {
      "cell_type": "code",
      "execution_count": 220,
      "metadata": {
        "colab": {
          "base_uri": "https://localhost:8080/"
        },
        "id": "ryAh8CUlkOdr",
        "outputId": "5c46ac82-0a5c-4281-94a8-5ed277c20259"
      },
      "outputs": [
        {
          "name": "stdout",
          "output_type": "stream",
          "text": [
            "Ad should not go!\n"
          ]
        }
      ],
      "source": [
        "X = ['Sunny', 'Cool', 'High', 'Strong']\n",
        "data = create_train_data()\n",
        "prior_probability, conditional_probability, list_x_name = train_naive_bayes(data)\n",
        "pred = prediction_play_tennis(X, list_x_name, prior_probability, conditional_probability)\n",
        "\n",
        "if (pred):\n",
        "  print(\"Ad should go!\")\n",
        "else:\n",
        "  print(\"Ad should not go!\")"
      ]
    }
  ],
  "metadata": {
    "colab": {
      "collapsed_sections": [
        "dmAoaMapAs3f",
        "gj0NwejgCnZC",
        "H6GYQk17JWnp",
        "4M6B8VBbJl0g",
        "451DWuITKbxb",
        "W9drEaF4LjMu",
        "bKLW6QLgLjUK",
        "J_o8OPHTLjX5",
        "Wkkn3kxVLjaj",
        "SMcQBCKELjdW",
        "sBxbXQm_LjgT",
        "CZV_dC6SLjjK",
        "_FkwDygmSyiS",
        "lsoGXXkScFru",
        "iG4hgBmgSynf",
        "fcPRLsJASyqG",
        "9gPecEJPSytD",
        "_Us-HNwLSyv0"
      ],
      "provenance": []
    },
    "kernelspec": {
      "display_name": "Python 3",
      "name": "python3"
    },
    "language_info": {
      "name": "python"
    }
  },
  "nbformat": 4,
  "nbformat_minor": 0
}
