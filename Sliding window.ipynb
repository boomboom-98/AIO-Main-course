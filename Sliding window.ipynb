{
  "nbformat": 4,
  "nbformat_minor": 0,
  "metadata": {
    "colab": {
      "private_outputs": true,
      "provenance": [],
      "authorship_tag": "ABX9TyMFxKUT18XRF7ke55q3BfYY",
      "include_colab_link": true
    },
    "kernelspec": {
      "name": "python3",
      "display_name": "Python 3"
    },
    "language_info": {
      "name": "python"
    }
  },
  "cells": [
    {
      "cell_type": "markdown",
      "metadata": {
        "id": "view-in-github",
        "colab_type": "text"
      },
      "source": [
        "<a href=\"https://colab.research.google.com/github/boomboom-98/AIO-Main-course/blob/Develop/Sliding%20window.ipynb\" target=\"_parent\"><img src=\"https://colab.research.google.com/assets/colab-badge.svg\" alt=\"Open In Colab\"/></a>"
      ]
    },
    {
      "cell_type": "code",
      "source": [
        "num_list = [3, 4, 5, 1, -44, 5, 10, 12, 33, 1]"
      ],
      "metadata": {
        "id": "EssHfs2E3BWP"
      },
      "execution_count": null,
      "outputs": []
    },
    {
      "cell_type": "code",
      "source": [
        "import random\n",
        "slidind_dimension = 3\n",
        "print(slidind_dimension)\n",
        "def sliding_window(k):\n",
        "  num_list = [3, 4, 5, 1, -44, 5, 10, 12, 33, 1]\n",
        "  for i in range(k, k+slidind_dimension):\n",
        "    result = max(num_list[k],num_list[k+1],num_list[k+2])\n",
        "  return result\n",
        "out_put = []\n",
        "for i in range(len(num_list)-slidind_dimension+1):\n",
        "  print(i)\n",
        "  out_put.append(sliding_window(i))\n",
        "  print(f'vi tri thu {i}')\n",
        "  print(out_put)"
      ],
      "metadata": {
        "id": "cDfZq77K2zNA"
      },
      "execution_count": null,
      "outputs": []
    },
    {
      "cell_type": "markdown",
      "source": [],
      "metadata": {
        "id": "0qajc5u62vl5"
      }
    }
  ]
}